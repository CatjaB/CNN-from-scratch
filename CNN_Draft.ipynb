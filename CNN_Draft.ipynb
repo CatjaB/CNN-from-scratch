{
  "cells": [
    {
      "cell_type": "code",
      "execution_count": null,
      "metadata": {
        "id": "Z7-b6RJA2z6U"
      },
      "outputs": [],
      "source": [
        "#import torch package. \n",
        "import torch\n"
      ]
    },
    {
      "cell_type": "code",
      "execution_count": null,
      "metadata": {
        "colab": {
          "base_uri": "https://localhost:8080/"
        },
        "id": "IlHfWYKHTFyq",
        "outputId": "45e2a33e-2fcf-481a-ea60-b37f08f64c2d"
      },
      "outputs": [
        {
          "output_type": "execute_result",
          "data": {
            "text/plain": [
              "device(type='cuda')"
            ]
          },
          "metadata": {},
          "execution_count": 62
        }
      ],
      "source": [
        "# Check available devices\n",
        "# Device configuration\n",
        "\n",
        "torch.device('cuda' if torch.cuda.is_available() else 'cpu')\n"
      ]
    },
    {
      "cell_type": "code",
      "execution_count": null,
      "metadata": {
        "id": "7Ee0NWkeTF05"
      },
      "outputs": [],
      "source": [
        "# What? Download MNIST dataset in local system\n",
        "# How: download MNIST dataset through torchvision for train and test data separately and transform both into numpy.ndarray\n",
        "\n",
        "from torchvision import datasets\n",
        "\n",
        "from torchvision.transforms import ToTensor\n",
        "\n",
        "\n",
        "train_data = datasets.MNIST(\n",
        "    root = 'data', #root (string) – Root directory of dataset where mnist file exists\n",
        "    train = True,   #train (bool, optional) – If True, creates dataset from train imageset, otherwise from other imageset                      \n",
        "    transform = ToTensor(), #ToTensor() = Convert a PIL Image or numpy.ndarray to tensor.\n",
        "    download = True,    #download (bool, optional) – If True, downloads the dataset from the internet and puts it in root directory. If dataset is already downloaded, it is not downloaded again.        \n",
        ")\n",
        "test_data = datasets.MNIST(\n",
        "    root = 'data', \n",
        "    train = False, \n",
        "    transform = ToTensor()\n",
        ")\n"
      ]
    },
    {
      "cell_type": "code",
      "execution_count": null,
      "metadata": {
        "id": "H4l0B_GRDfwp"
      },
      "outputs": [],
      "source": []
    },
    {
      "cell_type": "code",
      "execution_count": null,
      "metadata": {
        "colab": {
          "base_uri": "https://localhost:8080/"
        },
        "id": "TikTPJCeTF3A",
        "outputId": "fe8188a5-bedd-4b0c-dbf6-e748ce236132"
      },
      "outputs": [
        {
          "output_type": "stream",
          "name": "stdout",
          "text": [
            "Dataset MNIST\n",
            "    Number of datapoints: 60000\n",
            "    Root location: data\n",
            "    Split: Train\n",
            "    StandardTransform\n",
            "Transform: ToTensor()\n"
          ]
        }
      ],
      "source": [
        "print(train_data)"
      ]
    },
    {
      "cell_type": "code",
      "execution_count": null,
      "metadata": {
        "colab": {
          "base_uri": "https://localhost:8080/"
        },
        "id": "estVJel6TF5I",
        "outputId": "293733df-7fcf-44b3-dc35-47428a61a802"
      },
      "outputs": [
        {
          "output_type": "stream",
          "name": "stdout",
          "text": [
            "Dataset MNIST\n",
            "    Number of datapoints: 10000\n",
            "    Root location: data\n",
            "    Split: Test\n",
            "    StandardTransform\n",
            "Transform: ToTensor()\n"
          ]
        }
      ],
      "source": [
        "print(test_data)"
      ]
    },
    {
      "cell_type": "code",
      "execution_count": null,
      "metadata": {
        "colab": {
          "base_uri": "https://localhost:8080/"
        },
        "id": "ZhkYzW9LFYhc",
        "outputId": "5d4421db-3545-4819-cb8f-2e9595d560ed"
      },
      "outputs": [
        {
          "output_type": "stream",
          "name": "stdout",
          "text": [
            "60000\n",
            "10000\n"
          ]
        }
      ],
      "source": [
        "print(len(train_data))\n",
        "print(len(test_data))"
      ]
    },
    {
      "cell_type": "code",
      "execution_count": null,
      "metadata": {
        "colab": {
          "base_uri": "https://localhost:8080/"
        },
        "id": "g6uJCiNJCwLF",
        "outputId": "16cc5780-c86f-4879-fca7-67a2c5bbc7ee"
      },
      "outputs": [
        {
          "output_type": "stream",
          "name": "stdout",
          "text": [
            "torch.Size([1, 28, 28]) 5\n"
          ]
        }
      ],
      "source": [
        "#get image and label in position 0\n",
        "img_tensor, label = train_data[0]\n",
        "#print the shape of the array of image and the label\n",
        "print(img_tensor.shape, label)\n",
        "\n",
        "#output = 1 channel, height/width 28, height/width 28, label = 5"
      ]
    },
    {
      "cell_type": "code",
      "execution_count": null,
      "metadata": {
        "colab": {
          "base_uri": "https://localhost:8080/"
        },
        "id": "Xtd1HmYEF7jq",
        "outputId": "b9ef7e5e-ece8-4505-beeb-b8b8519afe4f"
      },
      "outputs": [
        {
          "output_type": "execute_result",
          "data": {
            "text/plain": [
              "tensor([[[0.0000, 0.0000, 0.0000, 0.0000, 0.0000, 0.0000, 0.0000, 0.0000,\n",
              "          0.0000, 0.0000, 0.0000, 0.0000, 0.0000, 0.0000, 0.0000, 0.0000,\n",
              "          0.0000, 0.0000, 0.0000, 0.0000, 0.0000, 0.0000, 0.0000, 0.0000,\n",
              "          0.0000, 0.0000, 0.0000, 0.0000],\n",
              "         [0.0000, 0.0000, 0.0000, 0.0000, 0.0000, 0.0000, 0.0000, 0.0000,\n",
              "          0.0000, 0.0000, 0.0000, 0.0000, 0.0000, 0.0000, 0.0000, 0.0000,\n",
              "          0.0000, 0.0000, 0.0000, 0.0000, 0.0000, 0.0000, 0.0000, 0.0000,\n",
              "          0.0000, 0.0000, 0.0000, 0.0000],\n",
              "         [0.0000, 0.0000, 0.0000, 0.0000, 0.0000, 0.0000, 0.0000, 0.0000,\n",
              "          0.0000, 0.0000, 0.0000, 0.0000, 0.0000, 0.0000, 0.0000, 0.0000,\n",
              "          0.0000, 0.0000, 0.0000, 0.0000, 0.0000, 0.0000, 0.0000, 0.0000,\n",
              "          0.0000, 0.0000, 0.0000, 0.0000],\n",
              "         [0.0000, 0.0000, 0.0000, 0.0000, 0.0000, 0.0000, 0.0000, 0.0000,\n",
              "          0.0000, 0.0000, 0.0000, 0.0000, 0.0000, 0.0000, 0.0000, 0.0000,\n",
              "          0.0000, 0.0000, 0.0000, 0.0000, 0.0000, 0.0000, 0.0000, 0.0000,\n",
              "          0.0000, 0.0000, 0.0000, 0.0000],\n",
              "         [0.0000, 0.0000, 0.0000, 0.0000, 0.0000, 0.0000, 0.0000, 0.0000,\n",
              "          0.0000, 0.0000, 0.0000, 0.0000, 0.0000, 0.0000, 0.0000, 0.0000,\n",
              "          0.0000, 0.0000, 0.0000, 0.0000, 0.0000, 0.0000, 0.0000, 0.0000,\n",
              "          0.0000, 0.0000, 0.0000, 0.0000],\n",
              "         [0.0000, 0.0000, 0.0000, 0.0000, 0.0000, 0.0000, 0.0000, 0.0000,\n",
              "          0.0000, 0.0000, 0.0000, 0.0000, 0.0118, 0.0706, 0.0706, 0.0706,\n",
              "          0.4941, 0.5333, 0.6863, 0.1020, 0.6510, 1.0000, 0.9686, 0.4980,\n",
              "          0.0000, 0.0000, 0.0000, 0.0000],\n",
              "         [0.0000, 0.0000, 0.0000, 0.0000, 0.0000, 0.0000, 0.0000, 0.0000,\n",
              "          0.1176, 0.1412, 0.3686, 0.6039, 0.6667, 0.9922, 0.9922, 0.9922,\n",
              "          0.9922, 0.9922, 0.8824, 0.6745, 0.9922, 0.9490, 0.7647, 0.2510,\n",
              "          0.0000, 0.0000, 0.0000, 0.0000],\n",
              "         [0.0000, 0.0000, 0.0000, 0.0000, 0.0000, 0.0000, 0.0000, 0.1922,\n",
              "          0.9333, 0.9922, 0.9922, 0.9922, 0.9922, 0.9922, 0.9922, 0.9922,\n",
              "          0.9922, 0.9843, 0.3647, 0.3216, 0.3216, 0.2196, 0.1529, 0.0000,\n",
              "          0.0000, 0.0000, 0.0000, 0.0000],\n",
              "         [0.0000, 0.0000, 0.0000, 0.0000, 0.0000, 0.0000, 0.0000, 0.0706,\n",
              "          0.8588, 0.9922, 0.9922, 0.9922, 0.9922, 0.9922, 0.7765, 0.7137,\n",
              "          0.9686, 0.9451, 0.0000, 0.0000, 0.0000, 0.0000, 0.0000, 0.0000,\n",
              "          0.0000, 0.0000, 0.0000, 0.0000],\n",
              "         [0.0000, 0.0000, 0.0000, 0.0000, 0.0000, 0.0000, 0.0000, 0.0000,\n",
              "          0.3137, 0.6118, 0.4196, 0.9922, 0.9922, 0.8039, 0.0431, 0.0000,\n",
              "          0.1686, 0.6039, 0.0000, 0.0000, 0.0000, 0.0000, 0.0000, 0.0000,\n",
              "          0.0000, 0.0000, 0.0000, 0.0000],\n",
              "         [0.0000, 0.0000, 0.0000, 0.0000, 0.0000, 0.0000, 0.0000, 0.0000,\n",
              "          0.0000, 0.0549, 0.0039, 0.6039, 0.9922, 0.3529, 0.0000, 0.0000,\n",
              "          0.0000, 0.0000, 0.0000, 0.0000, 0.0000, 0.0000, 0.0000, 0.0000,\n",
              "          0.0000, 0.0000, 0.0000, 0.0000],\n",
              "         [0.0000, 0.0000, 0.0000, 0.0000, 0.0000, 0.0000, 0.0000, 0.0000,\n",
              "          0.0000, 0.0000, 0.0000, 0.5451, 0.9922, 0.7451, 0.0078, 0.0000,\n",
              "          0.0000, 0.0000, 0.0000, 0.0000, 0.0000, 0.0000, 0.0000, 0.0000,\n",
              "          0.0000, 0.0000, 0.0000, 0.0000],\n",
              "         [0.0000, 0.0000, 0.0000, 0.0000, 0.0000, 0.0000, 0.0000, 0.0000,\n",
              "          0.0000, 0.0000, 0.0000, 0.0431, 0.7451, 0.9922, 0.2745, 0.0000,\n",
              "          0.0000, 0.0000, 0.0000, 0.0000, 0.0000, 0.0000, 0.0000, 0.0000,\n",
              "          0.0000, 0.0000, 0.0000, 0.0000],\n",
              "         [0.0000, 0.0000, 0.0000, 0.0000, 0.0000, 0.0000, 0.0000, 0.0000,\n",
              "          0.0000, 0.0000, 0.0000, 0.0000, 0.1373, 0.9451, 0.8824, 0.6275,\n",
              "          0.4235, 0.0039, 0.0000, 0.0000, 0.0000, 0.0000, 0.0000, 0.0000,\n",
              "          0.0000, 0.0000, 0.0000, 0.0000],\n",
              "         [0.0000, 0.0000, 0.0000, 0.0000, 0.0000, 0.0000, 0.0000, 0.0000,\n",
              "          0.0000, 0.0000, 0.0000, 0.0000, 0.0000, 0.3176, 0.9412, 0.9922,\n",
              "          0.9922, 0.4667, 0.0980, 0.0000, 0.0000, 0.0000, 0.0000, 0.0000,\n",
              "          0.0000, 0.0000, 0.0000, 0.0000],\n",
              "         [0.0000, 0.0000, 0.0000, 0.0000, 0.0000, 0.0000, 0.0000, 0.0000,\n",
              "          0.0000, 0.0000, 0.0000, 0.0000, 0.0000, 0.0000, 0.1765, 0.7294,\n",
              "          0.9922, 0.9922, 0.5882, 0.1059, 0.0000, 0.0000, 0.0000, 0.0000,\n",
              "          0.0000, 0.0000, 0.0000, 0.0000],\n",
              "         [0.0000, 0.0000, 0.0000, 0.0000, 0.0000, 0.0000, 0.0000, 0.0000,\n",
              "          0.0000, 0.0000, 0.0000, 0.0000, 0.0000, 0.0000, 0.0000, 0.0627,\n",
              "          0.3647, 0.9882, 0.9922, 0.7333, 0.0000, 0.0000, 0.0000, 0.0000,\n",
              "          0.0000, 0.0000, 0.0000, 0.0000],\n",
              "         [0.0000, 0.0000, 0.0000, 0.0000, 0.0000, 0.0000, 0.0000, 0.0000,\n",
              "          0.0000, 0.0000, 0.0000, 0.0000, 0.0000, 0.0000, 0.0000, 0.0000,\n",
              "          0.0000, 0.9765, 0.9922, 0.9765, 0.2510, 0.0000, 0.0000, 0.0000,\n",
              "          0.0000, 0.0000, 0.0000, 0.0000],\n",
              "         [0.0000, 0.0000, 0.0000, 0.0000, 0.0000, 0.0000, 0.0000, 0.0000,\n",
              "          0.0000, 0.0000, 0.0000, 0.0000, 0.0000, 0.0000, 0.1804, 0.5098,\n",
              "          0.7176, 0.9922, 0.9922, 0.8118, 0.0078, 0.0000, 0.0000, 0.0000,\n",
              "          0.0000, 0.0000, 0.0000, 0.0000],\n",
              "         [0.0000, 0.0000, 0.0000, 0.0000, 0.0000, 0.0000, 0.0000, 0.0000,\n",
              "          0.0000, 0.0000, 0.0000, 0.0000, 0.1529, 0.5804, 0.8980, 0.9922,\n",
              "          0.9922, 0.9922, 0.9804, 0.7137, 0.0000, 0.0000, 0.0000, 0.0000,\n",
              "          0.0000, 0.0000, 0.0000, 0.0000],\n",
              "         [0.0000, 0.0000, 0.0000, 0.0000, 0.0000, 0.0000, 0.0000, 0.0000,\n",
              "          0.0000, 0.0000, 0.0941, 0.4471, 0.8667, 0.9922, 0.9922, 0.9922,\n",
              "          0.9922, 0.7882, 0.3059, 0.0000, 0.0000, 0.0000, 0.0000, 0.0000,\n",
              "          0.0000, 0.0000, 0.0000, 0.0000],\n",
              "         [0.0000, 0.0000, 0.0000, 0.0000, 0.0000, 0.0000, 0.0000, 0.0000,\n",
              "          0.0902, 0.2588, 0.8353, 0.9922, 0.9922, 0.9922, 0.9922, 0.7765,\n",
              "          0.3176, 0.0078, 0.0000, 0.0000, 0.0000, 0.0000, 0.0000, 0.0000,\n",
              "          0.0000, 0.0000, 0.0000, 0.0000],\n",
              "         [0.0000, 0.0000, 0.0000, 0.0000, 0.0000, 0.0000, 0.0706, 0.6706,\n",
              "          0.8588, 0.9922, 0.9922, 0.9922, 0.9922, 0.7647, 0.3137, 0.0353,\n",
              "          0.0000, 0.0000, 0.0000, 0.0000, 0.0000, 0.0000, 0.0000, 0.0000,\n",
              "          0.0000, 0.0000, 0.0000, 0.0000],\n",
              "         [0.0000, 0.0000, 0.0000, 0.0000, 0.2157, 0.6745, 0.8863, 0.9922,\n",
              "          0.9922, 0.9922, 0.9922, 0.9569, 0.5216, 0.0431, 0.0000, 0.0000,\n",
              "          0.0000, 0.0000, 0.0000, 0.0000, 0.0000, 0.0000, 0.0000, 0.0000,\n",
              "          0.0000, 0.0000, 0.0000, 0.0000],\n",
              "         [0.0000, 0.0000, 0.0000, 0.0000, 0.5333, 0.9922, 0.9922, 0.9922,\n",
              "          0.8314, 0.5294, 0.5176, 0.0627, 0.0000, 0.0000, 0.0000, 0.0000,\n",
              "          0.0000, 0.0000, 0.0000, 0.0000, 0.0000, 0.0000, 0.0000, 0.0000,\n",
              "          0.0000, 0.0000, 0.0000, 0.0000],\n",
              "         [0.0000, 0.0000, 0.0000, 0.0000, 0.0000, 0.0000, 0.0000, 0.0000,\n",
              "          0.0000, 0.0000, 0.0000, 0.0000, 0.0000, 0.0000, 0.0000, 0.0000,\n",
              "          0.0000, 0.0000, 0.0000, 0.0000, 0.0000, 0.0000, 0.0000, 0.0000,\n",
              "          0.0000, 0.0000, 0.0000, 0.0000],\n",
              "         [0.0000, 0.0000, 0.0000, 0.0000, 0.0000, 0.0000, 0.0000, 0.0000,\n",
              "          0.0000, 0.0000, 0.0000, 0.0000, 0.0000, 0.0000, 0.0000, 0.0000,\n",
              "          0.0000, 0.0000, 0.0000, 0.0000, 0.0000, 0.0000, 0.0000, 0.0000,\n",
              "          0.0000, 0.0000, 0.0000, 0.0000],\n",
              "         [0.0000, 0.0000, 0.0000, 0.0000, 0.0000, 0.0000, 0.0000, 0.0000,\n",
              "          0.0000, 0.0000, 0.0000, 0.0000, 0.0000, 0.0000, 0.0000, 0.0000,\n",
              "          0.0000, 0.0000, 0.0000, 0.0000, 0.0000, 0.0000, 0.0000, 0.0000,\n",
              "          0.0000, 0.0000, 0.0000, 0.0000]]])"
            ]
          },
          "metadata": {},
          "execution_count": 68
        }
      ],
      "source": [
        "img_tensor"
      ]
    },
    {
      "cell_type": "markdown",
      "metadata": {
        "id": "qWvhW4hHGTy9"
      },
      "source": [
        "According to the three cells before:\n",
        "\n",
        "\n",
        "* train_data contains 60000 elements\n",
        "* test_data contains 10000 elements\n",
        "* 1 image has 1 channel (pixel number shows the value between black and white), and the height and width 28 x 28 \n",
        "\n"
      ]
    },
    {
      "cell_type": "code",
      "execution_count": null,
      "metadata": {
        "colab": {
          "base_uri": "https://localhost:8080/",
          "height": 281
        },
        "id": "AniOXVedTF_e",
        "outputId": "5d461da3-8c68-4d12-f500-e9c69819c190"
      },
      "outputs": [
        {
          "output_type": "display_data",
          "data": {
            "text/plain": [
              "<Figure size 432x288 with 1 Axes>"
            ],
            "image/png": "[encoded data removed]"
          },
          "metadata": {
            "needs_background": "light"
          }
        }
      ],
      "source": [
        "#Plot one train_data\n",
        "\n",
        "import matplotlib.pyplot as plt\n",
        "plt.imshow(train_data.data[0], cmap='gray', vmin=0, vmax=255)\n",
        "#print title as number from train_data.targets\n",
        "plt.title('%i' % train_data.targets[0])\n",
        "plt.show()"
      ]
    },
    {
      "cell_type": "markdown",
      "metadata": {
        "id": "Lj255MYJTigx"
      },
      "source": [
        "## Prepare data for training with DataLoaders"
      ]
    },
    {
      "cell_type": "code",
      "execution_count": null,
      "metadata": {
        "colab": {
          "base_uri": "https://localhost:8080/"
        },
        "id": "KrW7nturTGFs",
        "outputId": "9e23e654-9e7b-41dc-fdd2-5f56a8ae3af0"
      },
      "outputs": [
        {
          "output_type": "execute_result",
          "data": {
            "text/plain": [
              "{'train': <torch.utils.data.dataloader.DataLoader at 0x7f859a86ff10>,\n",
              " 'test': <torch.utils.data.dataloader.DataLoader at 0x7f859a86fb20>}"
            ]
          },
          "metadata": {},
          "execution_count": 74
        }
      ],
      "source": [
        "# DataLoader is an iterable that abstracts this complexity for us in an easy API.\n",
        "\n",
        "from torch.utils.data import DataLoader\n",
        "#data is put into dict with two entries: train & test\n",
        "loaders = {\n",
        "    'train' : torch.utils.data.DataLoader(train_data, #dataset (Dataset) – dataset from which to load the data.\n",
        "                                          batch_size=100, #batch_size (int, optional) – how many samples per batch to load (default: 1). 100 individual fetched data samples are put into 1 batch\n",
        "                                          shuffle=True, #shuffle (bool, optional) – set to True to have the data reshuffled at every epoch (default: False) If shuffle is set to True, then all the samples are shuffled and loaded in batches. Otherwise they are sent one-by-one without any shuffling.\n",
        "                                          num_workers=1), #num_workers (int, optional) – how many subprocesses to use for data loading. 0 means that the data will be loaded in the main process. (default: 0)\n",
        "    \n",
        "    'test'  : torch.utils.data.DataLoader(test_data, \n",
        "                                          batch_size=100, \n",
        "                                          shuffle=True, \n",
        "                                          num_workers=1),\n",
        "}\n",
        "loaders"
      ]
    },
    {
      "cell_type": "code",
      "execution_count": null,
      "metadata": {
        "colab": {
          "base_uri": "https://localhost:8080/"
        },
        "id": "kDetcz_qbquR",
        "outputId": "0e672368-ed0d-4e7d-9983-ba543e9599a7"
      },
      "outputs": [
        {
          "output_type": "execute_result",
          "data": {
            "text/plain": [
              "<torch.utils.data.dataloader.DataLoader at 0x7f859a86ff10>"
            ]
          },
          "metadata": {},
          "execution_count": 75
        }
      ],
      "source": [
        "loaders['train']"
      ]
    },
    {
      "cell_type": "code",
      "execution_count": null,
      "metadata": {
        "colab": {
          "base_uri": "https://localhost:8080/",
          "height": 105
        },
        "id": "ZoTgmSfHc1ML",
        "outputId": "becc0b8c-80bc-41b0-8d3f-9ddd99b5ece4"
      },
      "outputs": [
        {
          "output_type": "execute_result",
          "data": {
            "text/plain": [
              "'\\n1. Make DataLoader an iterator to use next() with iter(DataLoader)\\n1. Now we can use next() (to get next batch in DataLoader)\\n\\n\\nThe DataLoader is a function that iterates through all our available data and \\nreturns it in the form of batches. For example, if we have a dataset of 32 images, \\nand we decide to batch the data with a size of 4. Our DataLoader would process \\nthe data, and return 8 batches of 4 images each.\\n'"
            ],
            "application/vnd.google.colaboratory.intrinsic+json": {
              "type": "string"
            }
          },
          "metadata": {},
          "execution_count": 76
        }
      ],
      "source": [
        "data = next(iter(loaders['train']))\n"
      ]
    },
    {
      "cell_type": "markdown",
      "metadata": {
        "id": "QWHaTlm20xp1"
      },
      "source": [
        "# Pre-Class Functions"
      ]
    },
    {
      "cell_type": "code",
      "execution_count": null,
      "metadata": {
        "id": "tuj-PFpEiLkg"
      },
      "outputs": [],
      "source": [
        "#@title Padding Function\n",
        "def add_padding(img, padding):\n",
        "  #per channel\n",
        "  output = torch.empty((img.size()[0],img.size()[2]+2*padding, img.size()[2]+2*padding))\n",
        "  for c in range(img.size(dim=0)):\n",
        "    #per row\n",
        "    for row in range(img.size(dim=1)):\n",
        "      #per column value\n",
        "      for value in range(img.size(dim=2)):\n",
        "        output[c][row+padding][value+padding] = img[c][row][value]\n",
        "  return output"
      ]
    },
    {
      "cell_type": "code",
      "execution_count": null,
      "metadata": {
        "id": "E2rq-R_sl1S1"
      },
      "outputs": [],
      "source": []
    },
    {
      "cell_type": "code",
      "execution_count": null,
      "metadata": {
        "id": "eADWubvVigMq"
      },
      "outputs": [],
      "source": [
        "input_img = torch.tensor([[[2,0,0,1,0],\n",
        "                          [0,2,0,0,2],\n",
        "                          [0,2,0,2,2],\n",
        "                          [0,2,0,2,1],\n",
        "                          [0,2,2,2,1]],\n",
        "\n",
        "                          [[2,0,0,1,0],\n",
        "                          [0,1,0,0,0],\n",
        "                          [2,1,1,2,1],\n",
        "                          [0,0,1,1,1],\n",
        "                          [1,2,0,1,1]],\n",
        "\n",
        "                          [[2,0,0,1,0],\n",
        "                          [1,1,2,1,2],\n",
        "                          [2,2,1,2,2],\n",
        "                          [0,0,0,0,0],\n",
        "                          [2,1,2,2,0]]], dtype=torch.long)\n",
        "\n",
        "padded = add_padding(input_img, 1)"
      ]
    },
    {
      "cell_type": "code",
      "execution_count": null,
      "metadata": {
        "colab": {
          "base_uri": "https://localhost:8080/"
        },
        "id": "JMF6LVb-nmBc",
        "outputId": "8dd6bf91-6905-47a4-da26-41dac4a57bac"
      },
      "outputs": [
        {
          "output_type": "execute_result",
          "data": {
            "text/plain": [
              "tensor([[[-5.4423e-23,  4.5745e-41, -3.2531e-31,  4.5747e-41, -4.1883e-35,\n",
              "           4.5747e-41,  0.0000e+00],\n",
              "         [ 0.0000e+00,  2.0000e+00,  0.0000e+00,  0.0000e+00,  1.0000e+00,\n",
              "           0.0000e+00,  0.0000e+00],\n",
              "         [ 1.4013e-45,  0.0000e+00,  2.0000e+00,  0.0000e+00,  0.0000e+00,\n",
              "           2.0000e+00,  0.0000e+00],\n",
              "         [ 0.0000e+00,  0.0000e+00,  2.0000e+00,  0.0000e+00,  2.0000e+00,\n",
              "           2.0000e+00,  4.2039e-45],\n",
              "         [ 1.7096e-43,  0.0000e+00,  2.0000e+00,  0.0000e+00,  2.0000e+00,\n",
              "           1.0000e+00,  0.0000e+00],\n",
              "         [ 0.0000e+00,  0.0000e+00,  2.0000e+00,  2.0000e+00,  2.0000e+00,\n",
              "           1.0000e+00,  0.0000e+00],\n",
              "         [ 0.0000e+00,  0.0000e+00,  0.0000e+00,  0.0000e+00,  0.0000e+00,\n",
              "           0.0000e+00,  0.0000e+00]],\n",
              "\n",
              "        [[ 0.0000e+00,  0.0000e+00,  0.0000e+00,  0.0000e+00,  0.0000e+00,\n",
              "           0.0000e+00,  0.0000e+00],\n",
              "         [ 0.0000e+00,  2.0000e+00,  0.0000e+00,  0.0000e+00,  1.0000e+00,\n",
              "           0.0000e+00,  0.0000e+00],\n",
              "         [ 0.0000e+00,  0.0000e+00,  1.0000e+00,  0.0000e+00,  0.0000e+00,\n",
              "           0.0000e+00,  0.0000e+00],\n",
              "         [ 0.0000e+00,  2.0000e+00,  1.0000e+00,  1.0000e+00,  2.0000e+00,\n",
              "           1.0000e+00,  0.0000e+00],\n",
              "         [ 0.0000e+00,  0.0000e+00,  0.0000e+00,  1.0000e+00,  1.0000e+00,\n",
              "           1.0000e+00,  0.0000e+00],\n",
              "         [-5.2266e-23,  1.0000e+00,  2.0000e+00,  0.0000e+00,  1.0000e+00,\n",
              "           1.0000e+00, -5.2289e-23],\n",
              "         [ 4.5745e-41, -5.2258e-23,  4.5745e-41, -5.2260e-23,  4.5745e-41,\n",
              "          -5.2286e-23,  4.5745e-41]],\n",
              "\n",
              "        [[ 1.3723e-38,  0.0000e+00,  1.3723e-38,  0.0000e+00,  1.3723e-38,\n",
              "           0.0000e+00,  1.3723e-38],\n",
              "         [ 0.0000e+00,  2.0000e+00,  0.0000e+00,  0.0000e+00,  1.0000e+00,\n",
              "           0.0000e+00,  4.5745e-41],\n",
              "         [-5.5127e-12,  1.0000e+00,  1.0000e+00,  2.0000e+00,  1.0000e+00,\n",
              "           2.0000e+00,  0.0000e+00],\n",
              "         [ 0.0000e+00,  2.0000e+00,  2.0000e+00,  1.0000e+00,  2.0000e+00,\n",
              "           2.0000e+00,  0.0000e+00],\n",
              "         [ 0.0000e+00,  0.0000e+00,  0.0000e+00,  0.0000e+00,  0.0000e+00,\n",
              "           0.0000e+00,  0.0000e+00],\n",
              "         [ 0.0000e+00,  2.0000e+00,  1.0000e+00,  2.0000e+00,  2.0000e+00,\n",
              "           0.0000e+00,  0.0000e+00],\n",
              "         [ 1.3723e-38,  0.0000e+00, -5.5211e-23,  4.5745e-41,  1.3726e-38,\n",
              "           0.0000e+00,  1.3725e-38]]])"
            ]
          },
          "metadata": {},
          "execution_count": 83
        }
      ],
      "source": [
        "padded"
      ]
    },
    {
      "cell_type": "code",
      "execution_count": null,
      "metadata": {
        "id": "V42Y1clJnmDr"
      },
      "outputs": [],
      "source": [
        "#@title sum_img_filter Function\n",
        "def sum_img_filter(img_slice, filter, bias):\n",
        "  value_sum = 0\n",
        "  for c in range(len(filter)):\n",
        "    for row in range(len(img_slice[c])):\n",
        "      for v in range(len(img_slice[c][row])):\n",
        "        value = img_slice[c][row][v] * filter[c][row][v]\n",
        "        value_sum += value\n",
        "  value_sum = value_sum + bias\n",
        "  return value_sum"
      ]
    },
    {
      "cell_type": "code",
      "execution_count": null,
      "metadata": {
        "colab": {
          "base_uri": "https://localhost:8080/"
        },
        "id": "WFqznH10KZG_",
        "outputId": "134c3299-d13e-46b1-fe15-65e1e35b613e"
      },
      "outputs": [
        {
          "output_type": "stream",
          "name": "stdout",
          "text": [
            "tensor([[-0.2803,  1.0749,  1.9213],\n",
            "        [-1.2983, -0.2435,  2.0093],\n",
            "        [ 2.2427,  1.1086, -0.7875]])\n",
            "tensor([[-0.3463,  0.3993,  0.4513],\n",
            "        [-0.0893, -1.2110,  0.3275],\n",
            "        [ 0.7552, -1.2894, -0.3059]])\n"
          ]
        }
      ],
      "source": [
        "tensor1 = torch.randn(3,3)\n",
        "tensor2 = torch.randn(3,3)\n",
        "\n",
        "print(tensor1)\n",
        "print(tensor2)"
      ]
    },
    {
      "cell_type": "code",
      "execution_count": null,
      "metadata": {
        "colab": {
          "base_uri": "https://localhost:8080/"
        },
        "id": "yGzOqVoEKR6F",
        "outputId": "706d1de2-2f4b-4b66-86c8-4a157ffdf5cc"
      },
      "outputs": [
        {
          "output_type": "execute_result",
          "data": {
            "text/plain": [
              "tensor([[ 1.4520, -3.8909, -0.3623],\n",
              "        [ 1.9888, -2.8144, -1.2805],\n",
              "        [-1.4704,  0.5684,  1.6162]])"
            ]
          },
          "metadata": {},
          "execution_count": 88
        }
      ],
      "source": [
        "import numpy as np\n",
        "b = torch.matmul(tensor1, tensor2)\n",
        "\n",
        "c = np.tensordot(tensor1,tensor2, 1)\n",
        "b"
      ]
    },
    {
      "cell_type": "code",
      "execution_count": null,
      "metadata": {
        "id": "8LrH0-ugentq"
      },
      "outputs": [],
      "source": [
        "a_ten = torch.tensor([[[2,0,0],\n",
        "                          [0,2,0],\n",
        "                          [0,2,0]],\n",
        "\n",
        "                          [[2,0,0],\n",
        "                          [0,1,0],\n",
        "                          [2,1,1]],\n",
        "\n",
        "                          [[2,0,0],\n",
        "                          [1,1,2],\n",
        "                          [2,2,1]]], dtype=torch.long)\n",
        "filter_ten = torch.tensor(             [[[1,1,1],\n",
        "                          [1,1,1],\n",
        "                          [1,1,1]],\n",
        "\n",
        "                          [[1,1,1],\n",
        "                          [1,1,1],\n",
        "                          [1,1,1]],\n",
        "\n",
        "                          [[1,1,1],\n",
        "                          [1,1,1],\n",
        "                          [1,1,1]]])"
      ]
    },
    {
      "cell_type": "code",
      "execution_count": null,
      "metadata": {
        "colab": {
          "base_uri": "https://localhost:8080/"
        },
        "id": "c2IzOWD4fKnR",
        "outputId": "60d0f6f5-7232-44e5-ab87-11f16caf13e0"
      },
      "outputs": [
        {
          "output_type": "execute_result",
          "data": {
            "text/plain": [
              "tensor([[[2, 2, 2],\n",
              "         [2, 2, 2],\n",
              "         [2, 2, 2]],\n",
              "\n",
              "        [[2, 2, 2],\n",
              "         [1, 1, 1],\n",
              "         [4, 4, 4]],\n",
              "\n",
              "        [[2, 2, 2],\n",
              "         [4, 4, 4],\n",
              "         [5, 5, 5]]])"
            ]
          },
          "metadata": {},
          "execution_count": 90
        }
      ],
      "source": [
        "import numpy as np\n",
        "b = torch.matmul(a_ten, filter_ten)\n",
        "b"
      ]
    },
    {
      "cell_type": "code",
      "execution_count": null,
      "metadata": {
        "colab": {
          "base_uri": "https://localhost:8080/"
        },
        "id": "w65cTUPjfqPw",
        "outputId": "12cc7a30-7196-4b8b-bba1-9912e7c50de6"
      },
      "outputs": [
        {
          "output_type": "execute_result",
          "data": {
            "text/plain": [
              "array([[[2, 2, 2],\n",
              "        [2, 2, 2],\n",
              "        [2, 2, 2]],\n",
              "\n",
              "       [[2, 2, 2],\n",
              "        [1, 1, 1],\n",
              "        [4, 4, 4]],\n",
              "\n",
              "       [[2, 2, 2],\n",
              "        [4, 4, 4],\n",
              "        [5, 5, 5]]])"
            ]
          },
          "metadata": {},
          "execution_count": 91
        }
      ],
      "source": [
        "np_a = a_ten.numpy()\n",
        "np_filter = filter_ten.numpy()\n",
        "\n",
        "\n",
        "e = np.matmul(np_a, np_filter)\n",
        "e"
      ]
    },
    {
      "cell_type": "code",
      "execution_count": null,
      "metadata": {
        "colab": {
          "base_uri": "https://localhost:8080/"
        },
        "id": "3Kxfqme-TBqO",
        "outputId": "bc7fb913-660d-4059-8b84-055ea4765e9f"
      },
      "outputs": [
        {
          "output_type": "stream",
          "name": "stdout",
          "text": [
            "tensor([0, 2, 0])\n",
            "[0 2 0]\n"
          ]
        }
      ],
      "source": [
        "print(a_ten[0][1][:])\n",
        "print(np_a[0][1][:])\n",
        "\n"
      ]
    },
    {
      "cell_type": "code",
      "execution_count": null,
      "metadata": {
        "id": "67tJlrVPTByb"
      },
      "outputs": [],
      "source": []
    },
    {
      "cell_type": "code",
      "execution_count": null,
      "metadata": {
        "id": "xezBo788enyG"
      },
      "outputs": [],
      "source": [
        "a = np.array(             [[[2,0,0],\n",
        "                          [0,2,0],\n",
        "                          [0,2,0]],\n",
        "\n",
        "                          [[2,0,0],\n",
        "                          [0,1,0],\n",
        "                          [2,1,1]],\n",
        "\n",
        "                          [[2,0,0],\n",
        "                          [1,1,2],\n",
        "                          [2,2,1]]])\n",
        "\n",
        "\n",
        "filter = np.array(             [[[1,1,1],\n",
        "                          [1,1,1],\n",
        "                          [1,1,1]],\n",
        "\n",
        "                          [[1,1,1],\n",
        "                          [1,1,1],\n",
        "                          [1,1,1]],\n",
        "\n",
        "                          [[1,1,1],\n",
        "                          [1,1,1],\n",
        "                          [1,1,1]]])\n"
      ]
    },
    {
      "cell_type": "code",
      "execution_count": null,
      "metadata": {
        "colab": {
          "base_uri": "https://localhost:8080/"
        },
        "id": "KRznkNiHen2R",
        "outputId": "39dfbfc0-4fe7-46f3-a8f9-99fc981e8dda"
      },
      "outputs": [
        {
          "output_type": "execute_result",
          "data": {
            "text/plain": [
              "array([[[2, 2, 2],\n",
              "        [2, 2, 2],\n",
              "        [2, 2, 2]],\n",
              "\n",
              "       [[2, 2, 2],\n",
              "        [1, 1, 1],\n",
              "        [4, 4, 4]],\n",
              "\n",
              "       [[2, 2, 2],\n",
              "        [4, 4, 4],\n",
              "        [5, 5, 5]]])"
            ]
          },
          "metadata": {},
          "execution_count": 94
        }
      ],
      "source": [
        "import numpy as np\n",
        "d = np.matmul(a, filter)\n",
        "d"
      ]
    },
    {
      "cell_type": "code",
      "execution_count": null,
      "metadata": {
        "id": "9PXVASmYen5i"
      },
      "outputs": [],
      "source": []
    },
    {
      "cell_type": "code",
      "execution_count": null,
      "metadata": {
        "colab": {
          "base_uri": "https://localhost:8080/"
        },
        "id": "Lh1T3zlkSU3i",
        "outputId": "2dc0ab6d-cfdf-4b97-ea3c-da23ac4bfa44"
      },
      "outputs": [
        {
          "output_type": "execute_result",
          "data": {
            "text/plain": [
              "array([[ 1.4519912 , -3.8909194 , -0.36226907],\n",
              "       [ 1.9887745 , -2.8143723 , -1.2804873 ],\n",
              "       [-1.470385  ,  0.56839675,  1.6162207 ]], dtype=float32)"
            ]
          },
          "metadata": {},
          "execution_count": 95
        }
      ],
      "source": [
        "c"
      ]
    },
    {
      "cell_type": "code",
      "execution_count": null,
      "metadata": {
        "id": "DX6pe-U9_5ze"
      },
      "outputs": [],
      "source": [
        "#@title img_slice_x_filters Function\n",
        "def img_slice_x_filters(img, size, stride, row, filter, bias):\n",
        "    slices = []\n",
        "    v = 0\n",
        "\n",
        "    while (v + size) <= img.size(dim=2):\n",
        "        #one slice\n",
        "        one_slice = img[:, row : row + size, v : v + size]\n",
        "        v = v + stride\n",
        "        slices.append(one_slice)\n",
        "\n",
        "    #per tensor:\n",
        "    final_values = []\n",
        "\n",
        "    for a_slice in range(len(slices)):\n",
        "      calc = matrix_sum_img_filter(slices[a_slice], filter, bias.item())\n",
        "      final_values.append(calc)\n",
        "      \n",
        "    return final_values"
      ]
    },
    {
      "cell_type": "code",
      "execution_count": null,
      "metadata": {
        "colab": {
          "base_uri": "https://localhost:8080/"
        },
        "id": "jetZ4lT8hCXG",
        "outputId": "82bf5091-d319-420b-ebec-9777c2fc24bd"
      },
      "outputs": [
        {
          "output_type": "execute_result",
          "data": {
            "text/plain": [
              "[tensor(-5), tensor(2)]"
            ]
          },
          "metadata": {},
          "execution_count": 100
        }
      ],
      "source": [
        "\n",
        "slices_img = torch.tensor([[[2,0,0,1,0],\n",
        "                          [0,2,0,0,2],\n",
        "                          [0,2,0,2,2],\n",
        "                          [0,2,0,2,1],\n",
        "                          [0,2,2,2,1]]], dtype=torch.long)\n",
        "\n",
        "\n",
        "test_filters = torch.tensor([[[[-1,1,1],\n",
        "                              [-1,-1,0],\n",
        "                              [1,-1,1]]],\n",
        "\n",
        "                             [[[-1,1,1],\n",
        "                              [-1,-1,0],\n",
        "                              [1,-1,1]]],\n",
        "\n",
        "                              [[[-1,1,1],\n",
        "                              [-1,-1,0],\n",
        "                              [1,-1,1]]]])\n",
        "\n",
        "\n",
        "output = img_slice_x_filters(slices_img, 3, 2, 0, test_filters[0], torch.tensor([1]))\n",
        "\n",
        "output"
      ]
    },
    {
      "cell_type": "code",
      "execution_count": null,
      "metadata": {
        "id": "QDRfd-ci_54G"
      },
      "outputs": [],
      "source": []
    },
    {
      "cell_type": "code",
      "execution_count": null,
      "metadata": {
        "id": "ysycKAPLeuL3"
      },
      "outputs": [],
      "source": [
        "#@title max_slice Function\n",
        "def max_slice(input, size, stride, row):\n",
        "    max_values = []\n",
        "    v = 0\n",
        "    while (v + size) <= len(input):\n",
        "      one_slice = input[row : row + size, v : v + size]\n",
        "      v = v + stride\n",
        "      max_val = torch.max(one_slice)\n",
        "      max_values.append(max_val.item())\n",
        "\n",
        "    return max_values\n",
        "\n",
        "\n",
        "\n",
        "    "
      ]
    },
    {
      "cell_type": "code",
      "execution_count": null,
      "metadata": {
        "colab": {
          "base_uri": "https://localhost:8080/"
        },
        "id": "jhCl9qsveuJ6",
        "outputId": "40f05a5e-b785-45ca-8f61-abea8e4c5816"
      },
      "outputs": [
        {
          "output_type": "execute_result",
          "data": {
            "text/plain": [
              "[3, 2]"
            ]
          },
          "metadata": {},
          "execution_count": 106
        }
      ],
      "source": [
        "slices_img = torch.tensor([[[2,0,0,1,0],\n",
        "                          [0,2,0,0,2],\n",
        "                          [0,2,0,2,2],\n",
        "                          [0,2,0,2,1],\n",
        "                          [0,3,2,2,1]],\n",
        "\n",
        "                          [[2,0,0,1,0],\n",
        "                          [0,1,0,0,0],\n",
        "                          [2,1,1,2,1],\n",
        "                          [0,0,1,1,1],\n",
        "                          [1,2,0,1,1]]], dtype=torch.long)\n",
        "\n",
        "\n",
        "max_slice(slices_img[0], 3, 2, 2)\n"
      ]
    },
    {
      "cell_type": "code",
      "execution_count": null,
      "metadata": {
        "id": "dNBAf6rf_56I"
      },
      "outputs": [],
      "source": []
    },
    {
      "cell_type": "code",
      "execution_count": null,
      "metadata": {
        "colab": {
          "base_uri": "https://localhost:8080/"
        },
        "id": "k1s8nBne-BOC",
        "outputId": "90956f4e-3fcf-48f7-f706-e67616555ef7"
      },
      "outputs": [
        {
          "output_type": "execute_result",
          "data": {
            "text/plain": [
              "torch.Size([2, 3, 3])"
            ]
          },
          "metadata": {},
          "execution_count": 107
        }
      ],
      "source": [
        "\n",
        "filters = torch.rand((2, 3, 3))\n",
        "\n",
        "filters.size()"
      ]
    },
    {
      "cell_type": "code",
      "execution_count": null,
      "metadata": {
        "colab": {
          "base_uri": "https://localhost:8080/"
        },
        "id": "8baCP1gj-BRr",
        "outputId": "dc4a5eb3-2976-481f-ed2f-2d87b56bec4d"
      },
      "outputs": [
        {
          "output_type": "stream",
          "name": "stdout",
          "text": [
            "filters  tensor([[[0.0694, 0.1763, 0.0809],\n",
            "         [0.4016, 0.3438, 0.5373],\n",
            "         [0.4877, 0.4836, 0.1702]],\n",
            "\n",
            "        [[0.2009, 0.7701, 0.8922],\n",
            "         [0.9455, 0.5349, 0.4143],\n",
            "         [0.8702, 0.6623, 0.9477]]])\n"
          ]
        }
      ],
      "source": [
        "print(\"filters \", filters)"
      ]
    },
    {
      "cell_type": "code",
      "execution_count": null,
      "metadata": {
        "colab": {
          "base_uri": "https://localhost:8080/"
        },
        "id": "gu31NXb1BfxD",
        "outputId": "50444f43-7956-47a0-8472-eed306bdb95b"
      },
      "outputs": [
        {
          "output_type": "execute_result",
          "data": {
            "text/plain": [
              "tensor([[0.0694, 0.1763, 0.0809],\n",
              "        [0.4016, 0.3438, 0.5373],\n",
              "        [0.4877, 0.4836, 0.1702]])"
            ]
          },
          "metadata": {},
          "execution_count": 109
        }
      ],
      "source": [
        "filters[0]"
      ]
    },
    {
      "cell_type": "code",
      "execution_count": null,
      "metadata": {
        "colab": {
          "base_uri": "https://localhost:8080/"
        },
        "id": "ZpeIwxSsBfts",
        "outputId": "893999a8-ab5e-4d4a-ae5f-6ab631a8c871"
      },
      "outputs": [
        {
          "output_type": "execute_result",
          "data": {
            "text/plain": [
              "torch.Size([3])"
            ]
          },
          "metadata": {},
          "execution_count": 110
        }
      ],
      "source": [
        "\n",
        "bias = torch.rand(3)\n",
        "\n",
        "bias.size()"
      ]
    },
    {
      "cell_type": "code",
      "execution_count": null,
      "metadata": {
        "colab": {
          "base_uri": "https://localhost:8080/"
        },
        "id": "cDDtXoEoBfqR",
        "outputId": "617d4cbe-cd2e-493b-cf71-92d10c086457"
      },
      "outputs": [
        {
          "output_type": "execute_result",
          "data": {
            "text/plain": [
              "tensor([0.0322, 0.1002, 0.6058])"
            ]
          },
          "metadata": {},
          "execution_count": 111
        }
      ],
      "source": [
        "bias"
      ]
    },
    {
      "cell_type": "code",
      "execution_count": null,
      "metadata": {
        "id": "f4j40fdI-BUv"
      },
      "outputs": [],
      "source": []
    },
    {
      "cell_type": "markdown",
      "metadata": {
        "id": "-o0PHda5CHhV"
      },
      "source": [
        "# Own Layers"
      ]
    },
    {
      "cell_type": "code",
      "execution_count": null,
      "metadata": {
        "id": "CWE2UHGFCRyB"
      },
      "outputs": [],
      "source": []
    },
    {
      "cell_type": "code",
      "execution_count": null,
      "metadata": {
        "id": "boE4yNXhBveK"
      },
      "outputs": [],
      "source": [
        "#@title Class Conv Layer\n",
        "import torch\n",
        "import math\n",
        "from torch.nn.parameter import Parameter, UninitializedParameter\n",
        "\n",
        "\n",
        "class new_conv_layer(torch.nn.Module):\n",
        "    run_tests = False\n",
        "    def __init__(self, in_channels: int,  out_channels: int, kernel_size: int, stride: int, padding: int):\n",
        "        \"\"\"\n",
        "        In the constructor we instantiate four parameters and assign them as\n",
        "        member parameters.\n",
        "        \"\"\"\n",
        "        super().__init__()\n",
        "        self.f_size = kernel_size\n",
        "        self.padding = padding\n",
        "        self.n_filter = out_channels\n",
        "        self.stride = stride\n",
        "        self.channels = in_channels\n",
        "\n",
        "        #creates a tensor, shape n_filter x filter, each of the size f_size and \n",
        "        #fill them with with random numbers from a uniform distribution on the interval [0, 1)[0,1)\n",
        "        #in_channels = filter number, out_channels, kernel_size, kernel_size\n",
        "        self.filters = Parameter(torch.rand(out_channels, in_channels, kernel_size, kernel_size))\n",
        "        self.bias = Parameter(torch.rand(out_channels, 1))\n",
        "\n",
        "        self.test_filters = torch.rand((out_channels, kernel_size, kernel_size, in_channels))\n",
        "        self.test_bias = torch.rand((out_channels, 1))\n",
        "\n",
        "    def set_filter_bias(self, test_filters, test_bias):\n",
        "        self.test_filters = test_filters\n",
        "        self.test_bias = test_bias\n",
        "\n",
        "    def get_filters(self):\n",
        "        print(self.filters)\n",
        "\n",
        "    def get_bias(self):\n",
        "        print(self.bias)\n",
        "\n",
        "    def forward(self, img):\n",
        "        #add padding\n",
        "        padded_img = add_padding(img, self.padding)\n",
        "      \n",
        "        #per filter get img_slice\n",
        "        output_size = math.ceil(((img.size(dim=1) - self.f_size + 2 * self.padding)/self.stride) + 1)\n",
        "        \n",
        "        conv_output = []\n",
        "        for f in range(self.n_filter):\n",
        "          output_row= []\n",
        "          \n",
        "          if not run_tests:\n",
        "            row = 0\n",
        "            for r in range(output_size):\n",
        "              \n",
        "              slice_value = img_slice_x_filters(padded_img, self.f_size, self.stride, row, self.filters[f], self.bias[f])\n",
        "             \n",
        "              output_row.append(slice_value)\n",
        "              row += self.stride \n",
        "            conv_output.append(output_row)\n",
        "\n",
        "          else:\n",
        "            row = 0\n",
        "            for r in range(output_size):\n",
        "        \n",
        "              slice_value = img_slice_x_filters(padded_img, self.f_size, self.stride, row, self.test_filters[f], self.test_bias[f])\n",
        "              output_row.append(slice_value)\n",
        "            \n",
        "              row += self.stride \n",
        "            conv_output.append(output_row)\n",
        "          \n",
        "        return torch.tensor(conv_output)\n"
      ]
    },
    {
      "cell_type": "code",
      "execution_count": null,
      "metadata": {
        "id": "rRdSTFRq_hbW"
      },
      "outputs": [],
      "source": [
        "\n",
        "cnn = new_conv_layer(in_channels=1,           \n",
        "                  out_channels=2,      \n",
        "                  kernel_size=3,           \n",
        "                  stride=2,           \n",
        "                  padding=1)\n"
      ]
    },
    {
      "cell_type": "code",
      "source": [
        "print(np.random.randn(3, 3, 3, 3) * np.sqrt(1. / (3)))"
      ],
      "metadata": {
        "colab": {
          "base_uri": "https://localhost:8080/"
        },
        "id": "XtLSqpOipsAP",
        "outputId": "ab2b007d-75c7-475a-be6d-fcf9a5f56639"
      },
      "execution_count": null,
      "outputs": [
        {
          "output_type": "stream",
          "name": "stdout",
          "text": [
            "[[[[ 0.39172117  0.09070664  0.19546517]\n",
            "   [ 0.41573614  0.29600461 -0.46691052]\n",
            "   [ 0.12760424  0.03184918 -1.34476524]]\n",
            "\n",
            "  [[-0.52109194  0.09344461 -0.54737436]\n",
            "   [ 0.25750297 -0.1185584   0.28509438]\n",
            "   [-0.11190525  0.18537692  0.37089682]]\n",
            "\n",
            "  [[-1.18667679 -1.16147101  0.62150284]\n",
            "   [-0.89084626 -0.22001881 -1.13075858]\n",
            "   [ 0.16502882 -0.51058856 -0.27792367]]]\n",
            "\n",
            "\n",
            " [[[ 0.03069245  0.14898722  0.48953391]\n",
            "   [ 0.93728802 -0.34550632  0.77172813]\n",
            "   [ 0.41977438  1.05254317  0.52595217]]\n",
            "\n",
            "  [[-0.33664973  0.32886011  0.16685668]\n",
            "   [-0.29633574 -0.56068245 -0.57882946]\n",
            "   [ 0.84198883  0.31714103 -0.56898457]]\n",
            "\n",
            "  [[ 0.70086078  0.14458968  0.33639928]\n",
            "   [ 0.57682787  0.03977786 -0.33492444]\n",
            "   [ 0.11961354  0.26567228  0.9590612 ]]]\n",
            "\n",
            "\n",
            " [[[ 0.49485324 -0.64151068  0.83723718]\n",
            "   [ 0.47057157 -0.82605413 -0.46940036]\n",
            "   [ 0.49022943  0.59052599  0.3986984 ]]\n",
            "\n",
            "  [[ 0.17540067  0.05851935 -0.64415064]\n",
            "   [-0.1055455  -0.16695881 -0.42048141]\n",
            "   [-0.48067879 -0.23099528 -0.32216653]]\n",
            "\n",
            "  [[-0.30421695  0.054598    0.07973098]\n",
            "   [-0.1632784  -0.46100164  0.49591192]\n",
            "   [ 0.51588606  0.00161437 -0.05649898]]]]\n"
          ]
        }
      ]
    },
    {
      "cell_type": "code",
      "execution_count": null,
      "metadata": {
        "id": "uuKJqK_l_RLR"
      },
      "outputs": [],
      "source": [
        "\n",
        "  #Test forward function\n",
        "  test_input = torch.tensor([[[2,0,0,2,1],\n",
        "                          [0,2,1,2,0],\n",
        "                          [1,1,0,1,1],\n",
        "                          [0,2,0,0,0],\n",
        "                          [2,1,0,2,2]],\n",
        "\n",
        "                          [[1,2,2,1,0],\n",
        "                          [2,0,1,0,2],\n",
        "                          [2,1,0,1,0],\n",
        "                          [0,2,1,2,0],\n",
        "                          [1,1,0,1,0]],\n",
        "\n",
        "                          [[0,2,2,1,2],\n",
        "                          [1,2,2,2,0],\n",
        "                          [1,1,1,2,1],\n",
        "                          [1,2,0,2,0],\n",
        "                          [1,0,2,0,1]]], dtype=torch.long)\n",
        "  \n",
        "\n",
        "  #Correct: ((in_channels = filter number, out_channels, kernel_size, kernel_size))\n",
        "\n",
        "  \n",
        "  test_filter1 = torch.tensor([[[1,-1,-1],\n",
        "                              [1,1,0],\n",
        "                              [-1,1,1]],\n",
        "\n",
        "                              [[1,0,0],\n",
        "                              [1,1,1],\n",
        "                              [1,-1,1]],\n",
        "\n",
        "                              [[0,1,0],\n",
        "                              [1,0,0],\n",
        "                              [-1,-1,1]]])\n",
        "  test_filter2 = torch.tensor([[[-1,1,1],\n",
        "                              [0,-1,0],\n",
        "                              [-1,1,-1]],\n",
        "\n",
        "                              [[0,0,0],\n",
        "                              [1,-1,0],\n",
        "                              [0,-1,1]],\n",
        "\n",
        "                              [[1,-1,0],\n",
        "                              [-1,1,0],\n",
        "                              [0,1,1]]])\n",
        "  \n",
        "  test_filters = torch.tensor([[[[1,-1,-1],\n",
        "                              [1,1,0],\n",
        "                              [-1,1,1]],\n",
        "\n",
        "                              [[1,0,0],\n",
        "                              [1,1,1],\n",
        "                              [1,-1,1]],\n",
        "\n",
        "                              [[0,1,0],\n",
        "                              [1,0,0],\n",
        "                              [-1,-1,1]]],\n",
        "                              \n",
        "                              [[[-1,1,1],\n",
        "                              [0,-1,0],\n",
        "                              [-1,1,-1]],\n",
        "\n",
        "                              [[0,0,0],\n",
        "                              [1,-1,0],\n",
        "                              [0,-1,1]],\n",
        "\n",
        "                              [[1,-1,0],\n",
        "                              [-1,1,0],\n",
        "                              [0,1,1]]]], dtype=torch.long)\n",
        "  \n",
        "\n",
        "\n",
        "  #test_filters.type(torch.LongTensor)\n",
        "  \n",
        "\n",
        "  test_bias1 = torch.tensor([[[1]]])\n",
        "  test_bias2 = torch.tensor([[[0]]])\n",
        "\n",
        "  test_bias = torch.tensor([[1],[0]])\n",
        " \n",
        "\n",
        "\n",
        "  filters = torch.rand((1, 2, 3, 3))\n",
        "\n"
      ]
    },
    {
      "cell_type": "code",
      "execution_count": null,
      "metadata": {
        "id": "oGh8A6NuBw4V"
      },
      "outputs": [],
      "source": [
        "  filters"
      ]
    },
    {
      "cell_type": "code",
      "execution_count": null,
      "metadata": {
        "id": "642pb5pBCCDd"
      },
      "outputs": [],
      "source": [
        "filters[:, 0]"
      ]
    },
    {
      "cell_type": "code",
      "execution_count": null,
      "metadata": {
        "id": "By0xsCwL_iY1"
      },
      "outputs": [],
      "source": [
        "test_filters.size()"
      ]
    },
    {
      "cell_type": "code",
      "execution_count": null,
      "metadata": {
        "id": "BSQXR45UCCtj"
      },
      "outputs": [],
      "source": [
        "test_filters[0].size()"
      ]
    },
    {
      "cell_type": "code",
      "execution_count": null,
      "metadata": {
        "id": "pCnvpJS9iG0X"
      },
      "outputs": [],
      "source": [
        "bias = torch.rand((16, 1))"
      ]
    },
    {
      "cell_type": "code",
      "execution_count": null,
      "metadata": {
        "id": "aOB7IrZfiJsq"
      },
      "outputs": [],
      "source": [
        "bias[0].item()"
      ]
    },
    {
      "cell_type": "code",
      "execution_count": null,
      "metadata": {
        "colab": {
          "base_uri": "https://localhost:8080/",
          "height": 659
        },
        "id": "pyq45rE5DQ72",
        "outputId": "475820a7-5cc2-4f97-f628-fb3c417844c2"
      },
      "outputs": [
        {
          "output_type": "error",
          "ename": "RuntimeError",
          "evalue": "ignored",
          "traceback": [
            "\u001b[0;31m---------------------------------------------------------------------------\u001b[0m",
            "\u001b[0;31mRuntimeError\u001b[0m                              Traceback (most recent call last)",
            "\u001b[0;32m<ipython-input-135-0eb848eac6e8>\u001b[0m in \u001b[0;36m<module>\u001b[0;34m\u001b[0m\n\u001b[1;32m     13\u001b[0m \u001b[0;34m\u001b[0m\u001b[0m\n\u001b[1;32m     14\u001b[0m \u001b[0;34m\u001b[0m\u001b[0m\n\u001b[0;32m---> 15\u001b[0;31m   \u001b[0moutput\u001b[0m \u001b[0;34m=\u001b[0m \u001b[0mcnn\u001b[0m\u001b[0;34m.\u001b[0m\u001b[0mforward\u001b[0m\u001b[0;34m(\u001b[0m\u001b[0mimg\u001b[0m\u001b[0;34m)\u001b[0m\u001b[0;34m\u001b[0m\u001b[0;34m\u001b[0m\u001b[0m\n\u001b[0m\u001b[1;32m     16\u001b[0m \u001b[0;34m\u001b[0m\u001b[0m\n\u001b[1;32m     17\u001b[0m   \u001b[0mprint\u001b[0m\u001b[0;34m(\u001b[0m\u001b[0moutput\u001b[0m\u001b[0;34m.\u001b[0m\u001b[0msize\u001b[0m\u001b[0;34m(\u001b[0m\u001b[0;34m)\u001b[0m\u001b[0;34m)\u001b[0m\u001b[0;34m\u001b[0m\u001b[0;34m\u001b[0m\u001b[0m\n",
            "\u001b[0;32m<ipython-input-73-11804ed7084a>\u001b[0m in \u001b[0;36mforward\u001b[0;34m(self, img)\u001b[0m\n\u001b[1;32m     73\u001b[0m             \u001b[0;32mfor\u001b[0m \u001b[0mr\u001b[0m \u001b[0;32min\u001b[0m \u001b[0mrange\u001b[0m\u001b[0;34m(\u001b[0m\u001b[0moutput_size\u001b[0m\u001b[0;34m)\u001b[0m\u001b[0;34m:\u001b[0m\u001b[0;34m\u001b[0m\u001b[0;34m\u001b[0m\u001b[0m\n\u001b[1;32m     74\u001b[0m \u001b[0;34m\u001b[0m\u001b[0m\n\u001b[0;32m---> 75\u001b[0;31m               \u001b[0mslice_value\u001b[0m \u001b[0;34m=\u001b[0m \u001b[0mimg_slice_x_filters\u001b[0m\u001b[0;34m(\u001b[0m\u001b[0mpadded_img\u001b[0m\u001b[0;34m,\u001b[0m \u001b[0mself\u001b[0m\u001b[0;34m.\u001b[0m\u001b[0mf_size\u001b[0m\u001b[0;34m,\u001b[0m \u001b[0mself\u001b[0m\u001b[0;34m.\u001b[0m\u001b[0mstride\u001b[0m\u001b[0;34m,\u001b[0m \u001b[0mrow\u001b[0m\u001b[0;34m,\u001b[0m \u001b[0mself\u001b[0m\u001b[0;34m.\u001b[0m\u001b[0mtest_filters\u001b[0m\u001b[0;34m[\u001b[0m\u001b[0mf\u001b[0m\u001b[0;34m]\u001b[0m\u001b[0;34m,\u001b[0m \u001b[0mself\u001b[0m\u001b[0;34m.\u001b[0m\u001b[0mtest_bias\u001b[0m\u001b[0;34m[\u001b[0m\u001b[0mf\u001b[0m\u001b[0;34m]\u001b[0m\u001b[0;34m)\u001b[0m\u001b[0;34m\u001b[0m\u001b[0;34m\u001b[0m\u001b[0m\n\u001b[0m\u001b[1;32m     76\u001b[0m               \u001b[0moutput_row\u001b[0m\u001b[0;34m.\u001b[0m\u001b[0mappend\u001b[0m\u001b[0;34m(\u001b[0m\u001b[0mslice_value\u001b[0m\u001b[0;34m)\u001b[0m\u001b[0;34m\u001b[0m\u001b[0;34m\u001b[0m\u001b[0m\n\u001b[1;32m     77\u001b[0m \u001b[0;34m\u001b[0m\u001b[0m\n",
            "\u001b[0;32m<ipython-input-119-0a516b35df34>\u001b[0m in \u001b[0;36mimg_slice_x_filters\u001b[0;34m(img, size, stride, row, filter, bias)\u001b[0m\n\u001b[1;32m     14\u001b[0m \u001b[0;34m\u001b[0m\u001b[0m\n\u001b[1;32m     15\u001b[0m     \u001b[0;32mfor\u001b[0m \u001b[0ma_slice\u001b[0m \u001b[0;32min\u001b[0m \u001b[0mrange\u001b[0m\u001b[0;34m(\u001b[0m\u001b[0mlen\u001b[0m\u001b[0;34m(\u001b[0m\u001b[0mslices\u001b[0m\u001b[0;34m)\u001b[0m\u001b[0;34m)\u001b[0m\u001b[0;34m:\u001b[0m\u001b[0;34m\u001b[0m\u001b[0;34m\u001b[0m\u001b[0m\n\u001b[0;32m---> 16\u001b[0;31m       \u001b[0mcalc\u001b[0m \u001b[0;34m=\u001b[0m \u001b[0mmatrix_sum_img_filter\u001b[0m\u001b[0;34m(\u001b[0m\u001b[0mslices\u001b[0m\u001b[0;34m[\u001b[0m\u001b[0ma_slice\u001b[0m\u001b[0;34m]\u001b[0m\u001b[0;34m,\u001b[0m \u001b[0mfilter\u001b[0m\u001b[0;34m,\u001b[0m \u001b[0mbias\u001b[0m\u001b[0;34m.\u001b[0m\u001b[0mitem\u001b[0m\u001b[0;34m(\u001b[0m\u001b[0;34m)\u001b[0m\u001b[0;34m)\u001b[0m\u001b[0;34m\u001b[0m\u001b[0;34m\u001b[0m\u001b[0m\n\u001b[0m\u001b[1;32m     17\u001b[0m       \u001b[0mfinal_values\u001b[0m\u001b[0;34m.\u001b[0m\u001b[0mappend\u001b[0m\u001b[0;34m(\u001b[0m\u001b[0mcalc\u001b[0m\u001b[0;34m)\u001b[0m\u001b[0;34m\u001b[0m\u001b[0;34m\u001b[0m\u001b[0m\n\u001b[1;32m     18\u001b[0m \u001b[0;34m\u001b[0m\u001b[0m\n",
            "\u001b[0;32m<ipython-input-105-27c2795fe0df>\u001b[0m in \u001b[0;36mmatrix_sum_img_filter\u001b[0;34m(img_slice, filter, bias)\u001b[0m\n\u001b[1;32m     11\u001b[0m \u001b[0;34m\u001b[0m\u001b[0m\n\u001b[1;32m     12\u001b[0m     \u001b[0;32mfor\u001b[0m \u001b[0mrow\u001b[0m \u001b[0;32min\u001b[0m \u001b[0mrange\u001b[0m\u001b[0;34m(\u001b[0m\u001b[0mlen\u001b[0m\u001b[0;34m(\u001b[0m\u001b[0mimg_slice\u001b[0m\u001b[0;34m[\u001b[0m\u001b[0mc\u001b[0m\u001b[0;34m]\u001b[0m\u001b[0;34m)\u001b[0m\u001b[0;34m)\u001b[0m\u001b[0;34m:\u001b[0m\u001b[0;34m\u001b[0m\u001b[0;34m\u001b[0m\u001b[0m\n\u001b[0;32m---> 13\u001b[0;31m       \u001b[0mvalue\u001b[0m \u001b[0;34m=\u001b[0m \u001b[0mtorch\u001b[0m\u001b[0;34m.\u001b[0m\u001b[0mmatmul\u001b[0m\u001b[0;34m(\u001b[0m\u001b[0mimg_slice\u001b[0m\u001b[0;34m[\u001b[0m\u001b[0mc\u001b[0m\u001b[0;34m]\u001b[0m\u001b[0;34m[\u001b[0m\u001b[0mrow\u001b[0m\u001b[0;34m]\u001b[0m\u001b[0;34m[\u001b[0m\u001b[0;34m:\u001b[0m\u001b[0;34m]\u001b[0m\u001b[0;34m,\u001b[0m \u001b[0mfilter\u001b[0m\u001b[0;34m[\u001b[0m\u001b[0mc\u001b[0m\u001b[0;34m]\u001b[0m\u001b[0;34m[\u001b[0m\u001b[0mrow\u001b[0m\u001b[0;34m]\u001b[0m\u001b[0;34m[\u001b[0m\u001b[0;34m:\u001b[0m\u001b[0;34m]\u001b[0m\u001b[0;34m)\u001b[0m\u001b[0;34m\u001b[0m\u001b[0;34m\u001b[0m\u001b[0m\n\u001b[0m\u001b[1;32m     14\u001b[0m       \u001b[0mvalue_sum\u001b[0m \u001b[0;34m+=\u001b[0m \u001b[0mvalue\u001b[0m\u001b[0;34m\u001b[0m\u001b[0;34m\u001b[0m\u001b[0m\n\u001b[1;32m     15\u001b[0m    \u001b[0;31m## ##print(\"value_sum, \", value_sum)\u001b[0m\u001b[0;34m\u001b[0m\u001b[0;34m\u001b[0m\u001b[0;34m\u001b[0m\u001b[0m\n",
            "\u001b[0;31mRuntimeError\u001b[0m: inconsistent tensor size, expected tensor [5] and src [1] to have the same number of elements, but got 5 and 1 elements respectively"
          ]
        }
      ],
      "source": [
        "\n",
        "  #Test forward function\n",
        "  filters = torch.rand([16, 1, 5, 5])\n",
        "  img = torch.rand([1, 28, 28])\n",
        "  \n",
        "\n",
        "  cnn = new_conv_layer(in_channels=1,           \n",
        "                  out_channels=16,      \n",
        "                  kernel_size=5,           \n",
        "                  stride=1,           \n",
        "                  padding=2)\n",
        "\n",
        " \n",
        "  output = cnn.forward(img)\n",
        "\n",
        "  print(output.size())\n"
      ]
    },
    {
      "cell_type": "code",
      "execution_count": null,
      "metadata": {
        "id": "1FyohsLZNNEv"
      },
      "outputs": [],
      "source": [
        "test_bias = torch.tensor([[0.4792],\n",
        "        [0.6163]])\n",
        "\n",
        "\n",
        "print(test_bias[0])"
      ]
    },
    {
      "cell_type": "code",
      "execution_count": null,
      "metadata": {
        "id": "EOxK5g1eRgi1"
      },
      "outputs": [],
      "source": [
        "test_bias = torch.tensor([[1],[0]])\n",
        "print(test_bias[1][0])"
      ]
    },
    {
      "cell_type": "code",
      "execution_count": null,
      "metadata": {
        "id": "Y4gh6j2lNNze"
      },
      "outputs": [],
      "source": [
        "orig_bias"
      ]
    },
    {
      "cell_type": "code",
      "execution_count": null,
      "metadata": {
        "id": "i-PTZ_f4JsYU"
      },
      "outputs": [],
      "source": [
        "  cnn.filters"
      ]
    },
    {
      "cell_type": "code",
      "execution_count": null,
      "metadata": {
        "id": "uAtJo6bfJ_6I"
      },
      "outputs": [],
      "source": [
        "  filter = [[[-1, -1, -1], \n",
        "            [1,1,1], \n",
        "            [0, 0, 0]]]\n",
        "          \n",
        "  filter = torch.tensor(filter)\n",
        "\n"
      ]
    },
    {
      "cell_type": "code",
      "execution_count": null,
      "metadata": {
        "id": "_RF0YacpDRCY"
      },
      "outputs": [],
      "source": [
        "  # test forward function\n",
        "  import numpy as np\n",
        "\n",
        "  torch_img = torch.tensor([[0, 0, 0, 0, 0, 0], \n",
        "                [1, 2, 3, 4, 5, 6], \n",
        "                [0, 0, 0, 0, 0, 0],\n",
        "                [1, 1, 1, 1, 1, 1],\n",
        "                [0, 0, 0, 0, 0, 0],\n",
        "                [0, 0, 0, 0, 0, 0]])\n",
        "\n",
        "  torch_img = torch_img.float()\n",
        "  len(torch_img[0])       \n",
        "\n"
      ]
    },
    {
      "cell_type": "code",
      "execution_count": null,
      "metadata": {
        "id": "NJJJT22oHjOw"
      },
      "outputs": [],
      "source": [
        "filter_size = 3\n",
        "stride = 1\n",
        "k_s = 0\n",
        "j_s = 4\n",
        "img_slice = torch_img[j_s:filter_size+j_s, stride*k_s :filter_size + k_s]\n",
        "img_slice"
      ]
    },
    {
      "cell_type": "code",
      "execution_count": null,
      "metadata": {
        "id": "CYw7-1K-HxIt"
      },
      "outputs": [],
      "source": [
        "conv_layer = cnn.forward(torch_img)"
      ]
    },
    {
      "cell_type": "code",
      "execution_count": null,
      "metadata": {
        "id": "o4TVrI_gLnO9"
      },
      "outputs": [],
      "source": [
        "np_img = np.array([[0., 0., 0.],\n",
        "          [1., 2., 3.],\n",
        "          [0., 0., 0.]])\n",
        "np_filters =  np.array([[0.6399, 0.3915, 0.6495],\n",
        "          [0.6554, 0.1948, 0.8741],\n",
        "          [0.1062, 0.6698, 0.5635]])\n",
        "value=  3.6674\n",
        "value_correc = np.dot(np_img, np_filters)"
      ]
    },
    {
      "cell_type": "code",
      "execution_count": null,
      "metadata": {
        "id": "l6j46opNMAzY"
      },
      "outputs": [],
      "source": [
        "value_correc"
      ]
    },
    {
      "cell_type": "code",
      "execution_count": null,
      "metadata": {
        "id": "7_R3qrYuLz9c"
      },
      "outputs": [],
      "source": [
        "final_value = np.sum(value_correc)\n",
        "final_value"
      ]
    },
    {
      "cell_type": "code",
      "execution_count": null,
      "metadata": {
        "id": "5d9c3o8lDRFZ"
      },
      "outputs": [],
      "source": [
        "\n",
        "conv_layer"
      ]
    },
    {
      "cell_type": "code",
      "execution_count": null,
      "metadata": {
        "id": "z7JSAjMuDRHp"
      },
      "outputs": [],
      "source": []
    },
    {
      "cell_type": "code",
      "execution_count": null,
      "metadata": {
        "id": "SzD_bhLzCRz6"
      },
      "outputs": [],
      "source": []
    },
    {
      "cell_type": "code",
      "execution_count": null,
      "metadata": {
        "id": "gtrEJA3NAPqW"
      },
      "outputs": [],
      "source": [
        "#@title Class ReLU layer\n",
        "class new_relu_layer(torch.nn.Module):\n",
        "    def __init__(self):\n",
        "        super().__init__()\n",
        "    def forward(self, input):\n",
        "      for col in range(input.size(dim=0)):\n",
        "        for row in range(len(input[col])):        \n",
        "          for v in range(len(input[col][row])):          \n",
        "            input[col][row][v] = max(0, input[col][row][v])            \n",
        "      return input"
      ]
    },
    {
      "cell_type": "code",
      "execution_count": null,
      "metadata": {
        "colab": {
          "base_uri": "https://localhost:8080/"
        },
        "id": "jofNFlzUULQY",
        "outputId": "7bf2dcf1-433c-4f2f-9a67-16d2b074775b"
      },
      "outputs": [
        {
          "name": "stdout",
          "output_type": "stream",
          "text": [
            "col  2\n",
            "actual  0\n",
            "row  3\n",
            "v  3\n",
            "input , tensor(7)\n",
            "input , tensor(6)\n",
            "input , tensor(0)\n",
            "v  3\n",
            "input , tensor(9)\n",
            "input , tensor(7)\n",
            "input , tensor(8)\n",
            "v  3\n",
            "input , tensor(4)\n",
            "input , tensor(8)\n",
            "input , tensor(8)\n",
            "col  2\n",
            "actual  1\n",
            "row  3\n",
            "v  3\n",
            "input , tensor(-4)\n",
            "input , tensor(0)\n",
            "input , tensor(-3)\n",
            "v  3\n",
            "input , tensor(2)\n",
            "input , tensor(3)\n",
            "input , tensor(-1)\n",
            "v  3\n",
            "input , tensor(-1)\n",
            "input , tensor(3)\n",
            "input , tensor(2)\n",
            "tensor([[[7, 6, 0],\n",
            "         [9, 7, 8],\n",
            "         [4, 8, 8]],\n",
            "\n",
            "        [[0, 0, 0],\n",
            "         [2, 3, 0],\n",
            "         [0, 3, 2]]])\n"
          ]
        },
        {
          "name": "stderr",
          "output_type": "stream",
          "text": [
            "<ipython-input-67-3cf3ab26a0b5>:2: DeprecationWarning: an integer is required (got type float).  Implicit conversion to integers using __int__ is deprecated, and may be removed in a future version of Python.\n",
            "  relu_input = torch.tensor([[[ 7.,  6.,  0.],\n"
          ]
        }
      ],
      "source": [
        "if 2 == 2: #@TODO: put run_tests in here!\n",
        "  relu_input = torch.tensor([[[ 7.,  6.,  0.],\n",
        "         [ 9.,  7.,  8.],\n",
        "         [ 4.,  8.,  8.]],\n",
        "\n",
        "        [[-4.,  0., -3.],\n",
        "         [ 2.,  3., -1.],\n",
        "         [-1.,  3.,  2.]]], dtype=torch.long)\n",
        "  cnn_relu = new_relu_layer()\n",
        "  output = cnn_relu.forward(relu_input)\n",
        "\n",
        "  print(output)\n"
      ]
    },
    {
      "cell_type": "code",
      "execution_count": null,
      "metadata": {
        "colab": {
          "base_uri": "https://localhost:8080/"
        },
        "id": "4f3uHyKXXtxt",
        "outputId": "e21d2f4e-6af2-4a2b-93b7-32d37dc417d0"
      },
      "outputs": [
        {
          "name": "stdout",
          "output_type": "stream",
          "text": [
            "col  3\n",
            "actual  0\n",
            "row  3\n",
            "v  3\n",
            "input , tensor(7)\n",
            "input , tensor(6)\n",
            "input , tensor(0)\n",
            "v  3\n",
            "input , tensor(9)\n",
            "input , tensor(7)\n",
            "input , tensor(8)\n",
            "v  3\n",
            "input , tensor(4)\n",
            "input , tensor(8)\n",
            "input , tensor(8)\n",
            "col  3\n",
            "actual  1\n",
            "row  3\n",
            "v  3\n",
            "input , tensor(-4)\n",
            "input , tensor(0)\n",
            "input , tensor(-3)\n",
            "v  3\n",
            "input , tensor(2)\n",
            "input , tensor(3)\n",
            "input , tensor(-1)\n",
            "v  3\n",
            "input , tensor(-1)\n",
            "input , tensor(3)\n",
            "input , tensor(2)\n",
            "col  3\n",
            "actual  2\n",
            "row  3\n",
            "v  3\n",
            "input , tensor(-4)\n",
            "input , tensor(0)\n",
            "input , tensor(-3)\n",
            "v  3\n",
            "input , tensor(2)\n",
            "input , tensor(3)\n",
            "input , tensor(-1)\n",
            "v  3\n",
            "input , tensor(-1)\n",
            "input , tensor(3)\n",
            "input , tensor(2)\n",
            "tensor([[[7, 6, 0],\n",
            "         [9, 7, 8],\n",
            "         [4, 8, 8]],\n",
            "\n",
            "        [[0, 0, 0],\n",
            "         [2, 3, 0],\n",
            "         [0, 3, 2]],\n",
            "\n",
            "        [[0, 0, 0],\n",
            "         [2, 3, 0],\n",
            "         [0, 3, 2]]])\n"
          ]
        },
        {
          "name": "stderr",
          "output_type": "stream",
          "text": [
            "<ipython-input-68-92f97b7c317d>:2: DeprecationWarning: an integer is required (got type float).  Implicit conversion to integers using __int__ is deprecated, and may be removed in a future version of Python.\n",
            "  relu_input = torch.tensor([[[ 7.,  6.,  0.],\n"
          ]
        }
      ],
      "source": [
        "  relu_input = torch.tensor([[[ 7.,  6.,  0.],\n",
        "         [ 9.,  7.,  8.],\n",
        "         [ 4.,  8.,  8.]],\n",
        "\n",
        "        [[-4.,  0., -3.],\n",
        "         [ 2.,  3., -1.],\n",
        "         [-1.,  3.,  2.]],\n",
        "         \n",
        "         [[-4.,  0., -3.],\n",
        "         [ 2.,  3., -1.],\n",
        "         [-1.,  3.,  2.]]], dtype=torch.long)\n",
        "  cnn_relu = new_relu_layer()\n",
        "  output = cnn_relu.forward(relu_input)\n",
        "\n",
        "  print(output)\n"
      ]
    },
    {
      "cell_type": "code",
      "execution_count": null,
      "metadata": {
        "id": "XGbYnoneNxaI"
      },
      "outputs": [],
      "source": [
        "\n",
        "  relu_tensor =  torch.tensor([[0.0000, 0.0000, 0.0000,  0.0000, 0.0000, 0.0000],\n",
        "          [0.0000, 0.0000, 0.0000,  0.8961, 0.3806, 0.1673],\n",
        "          [0.0000, 0.0000, 0.0000,  7.8617, 5.1243, 2.7039],\n",
        "          [0.0000, 0.0000, 0.0000,  0.0000, 0.0000, 0.0000],\n",
        "          [0.0000, 0.0000, 0.0000,  0.0000, 0.0000, 0.0000],\n",
        "          [0.0000, 0.0000, 0.0000,  0.0000, 0.0000, 0.0000]])\n",
        "\n",
        "  relu_tensor = max(0, relu_tensor[0][5])\n",
        "\n",
        "  relu_tensor\n"
      ]
    },
    {
      "cell_type": "code",
      "execution_count": null,
      "metadata": {
        "id": "RhutM78cb3Uz"
      },
      "outputs": [],
      "source": [
        "\n",
        "  #test relu_layer\n",
        "  relu = relu_layer()"
      ]
    },
    {
      "cell_type": "code",
      "execution_count": null,
      "metadata": {
        "id": "GjVCuFfbdJ5k"
      },
      "outputs": [],
      "source": [
        "  \n",
        "  conv_layer[0]"
      ]
    },
    {
      "cell_type": "code",
      "execution_count": null,
      "metadata": {
        "id": "W4ywBTy2b6V-"
      },
      "outputs": [],
      "source": [
        "\n",
        "  result = relu.forward(conv_layer[0], conv_layer[1])"
      ]
    },
    {
      "cell_type": "code",
      "execution_count": null,
      "metadata": {
        "id": "LobN1k3ZdRW7"
      },
      "outputs": [],
      "source": [
        "\n",
        "  result"
      ]
    },
    {
      "cell_type": "code",
      "execution_count": null,
      "metadata": {
        "id": "LxA-aY6WCSBD"
      },
      "outputs": [],
      "source": []
    },
    {
      "cell_type": "code",
      "execution_count": null,
      "metadata": {
        "id": "kZvOsNB5AW6G"
      },
      "outputs": [],
      "source": [
        "#@title Class MaxPool Layer\n",
        "class new_maxpool_layer(torch.nn.Module):\n",
        "    def __init__(self, kernel_size: int):\n",
        "        super().__init__()\n",
        "        self.k_size=kernel_size\n",
        "        self.stride = kernel_size\n",
        "        \n",
        "    def forward(self, input):\n",
        "      final_output = []\n",
        "      output_size = math.floor(((input.size(dim=1) - self.k_size)/self.stride) + 1)\n",
        "      for chan in range(input.size(dim=0)):\n",
        "        channel_output = []\n",
        "        row = 0\n",
        "        for r in range(output_size):\n",
        "          slice_mvalues = max_slice(input[chan], self.k_size, self.stride, row)\n",
        "          row += self.stride \n",
        "\n",
        "          channel_output.append(slice_mvalues)\n",
        "        final_output.append(channel_output)\n",
        "      return torch.tensor(final_output)\n"
      ]
    },
    {
      "cell_type": "code",
      "execution_count": null,
      "metadata": {
        "colab": {
          "base_uri": "https://localhost:8080/"
        },
        "id": "S0PqWsn_0Kes",
        "outputId": "1e8f1a29-eb8c-4af6-b754-8faa70626f18"
      },
      "outputs": [
        {
          "name": "stdout",
          "output_type": "stream",
          "text": [
            "poutput ,  1\n",
            "col  2\n",
            "actual  0\n",
            "row \n",
            "Self_stride ,  3\n",
            "All DEEEEEETS:\n",
            "size:  3\n",
            "sride:  3\n",
            "row:  0\n",
            "for row, tensor([[7, 6, 0],\n",
            "        [9, 7, 8],\n",
            "        [4, 8, 8]])\n",
            "v  0\n",
            "one_slice,  [9]\n",
            "col  2\n",
            "actual  1\n",
            "row \n",
            "Self_stride ,  3\n",
            "All DEEEEEETS:\n",
            "size:  3\n",
            "sride:  3\n",
            "row:  0\n",
            "for row, tensor([[ 0,  0,  0],\n",
            "        [ 2, 11,  0],\n",
            "        [ 0,  3,  2]])\n",
            "v  0\n",
            "one_slice,  [11]\n",
            "Final output -----\n",
            "[[[9]], [[11]]]\n"
          ]
        },
        {
          "name": "stderr",
          "output_type": "stream",
          "text": [
            "<ipython-input-105-fc295b44f123>:2: DeprecationWarning: an integer is required (got type float).  Implicit conversion to integers using __int__ is deprecated, and may be removed in a future version of Python.\n",
            "  max_input = torch.tensor([[[ 7.,  6.,  0.],\n"
          ]
        }
      ],
      "source": [
        "\n",
        "  max_input = torch.tensor([[[ 7.,  6.,  0.],\n",
        "                            [ 9.,  7.,  8.],\n",
        "                             [ 4.,  8.,  8.]],\n",
        "\n",
        "                            [[0.,  0., 0.],\n",
        "                             [ 2.,  11., 0.],\n",
        "                              [0.,  3.,  2.]]], dtype=torch.long)\n",
        "  cnn_max = new_maxpool_layer(3)\n",
        "  output = cnn_max.forward(max_input)\n",
        "\n",
        "  print(output)\n"
      ]
    },
    {
      "cell_type": "code",
      "execution_count": null,
      "metadata": {
        "colab": {
          "base_uri": "https://localhost:8080/"
        },
        "id": "OuRb5beB50zY",
        "outputId": "b464b46a-a229-4e47-d74e-8ea0b0a8e192"
      },
      "outputs": [
        {
          "data": {
            "text/plain": [
              "[[[9]], [[11]]]"
            ]
          },
          "execution_count": 106,
          "metadata": {},
          "output_type": "execute_result"
        }
      ],
      "source": [
        "output"
      ]
    },
    {
      "cell_type": "code",
      "execution_count": null,
      "metadata": {
        "id": "T803DPikWMFr"
      },
      "outputs": [],
      "source": [
        "\n",
        "  example_input = torch.tensor([[0.8757, 0.8018],\n",
        "        [0.5597, 0.4330],\n",
        "        [0.1329, 0.4700],\n",
        "        [0.2481, 0.4330],\n",
        "        [0.3633, 0.2557],\n",
        "        [0.6708, 0.1123],\n",
        "        [0.8782, 0.7748],\n",
        "        [0.4641, 0.4129],\n",
        "        [0.3623, 0.1652],\n",
        "        [0.2499, 0.4253],\n",
        "        [0.6921, 0.5357],\n",
        "        [0.6326, 0.8908],\n",
        "        [0.9433, 0.5875],\n",
        "        [0.2363, 0.8307],\n",
        "        [0.6946, 0.5997],\n",
        "        [0.0659, 0.9280]])\n",
        "  print(\"Start\")\n",
        "  print(example_input)\n",
        "  max_pool = maxpool_layer(2)\n",
        "  result = max_pool.forward(example_input)\n",
        "\n",
        "  test_tensor = torch.tensor([[0.8757],\n",
        "        [0.4700],\n",
        "        [0.6708],\n",
        "        [0.8782],\n",
        "        [0.4253],\n",
        "        [0.8908],\n",
        "        [0.9433],\n",
        "        [0.9280]])\n",
        "  print(\"Ende \")\n",
        "  print(result)\n",
        "  print(torch.eq(result, test_tensor))"
      ]
    },
    {
      "cell_type": "code",
      "execution_count": null,
      "metadata": {
        "id": "WYIGzeuvesBh"
      },
      "outputs": [],
      "source": [
        "\n",
        "  max_pool = maxpool_layer(2)"
      ]
    },
    {
      "cell_type": "code",
      "execution_count": null,
      "metadata": {
        "id": "ck3qCEHfesD3"
      },
      "outputs": [],
      "source": [
        "\n",
        "  result = max_pool.forward(result[0], result[1])"
      ]
    },
    {
      "cell_type": "code",
      "execution_count": null,
      "metadata": {
        "id": "aOXBxZxgekub"
      },
      "outputs": [],
      "source": [
        "\n",
        "  result"
      ]
    },
    {
      "cell_type": "code",
      "execution_count": null,
      "metadata": {
        "id": "Za5_mgfffWuj"
      },
      "outputs": [],
      "source": [
        "\n",
        "  array = torch.flatten(result[0])"
      ]
    },
    {
      "cell_type": "code",
      "execution_count": null,
      "metadata": {
        "id": "E7r9Q7Rv787z"
      },
      "outputs": [],
      "source": [
        " \n",
        "  array"
      ]
    },
    {
      "cell_type": "code",
      "execution_count": null,
      "metadata": {
        "id": "qM8JqNYx7HDs"
      },
      "outputs": [],
      "source": [
        "#@title Class Linear layer\n",
        "\n",
        "import numpy as np\n",
        "\n",
        "class lin_layer(torch.nn.Module):\n",
        "    def __init__(self, in_features: int, out_features: int):\n",
        "        super().__init__()\n",
        "        self.in_features = in_features\n",
        "        self.out_features = out_features\n",
        "        self.weight = Parameter(torch.empty((out_features, in_features)))\n",
        "        self.bias = Parameter(torch.empty(out_features))\n",
        "    def forward(self, input):\n",
        "      \n",
        "      output = torch.matmul(self.weight, input) \n",
        "      output += self.bias\n",
        "      return output\n",
        "      \n",
        "  \n"
      ]
    },
    {
      "cell_type": "code",
      "execution_count": null,
      "metadata": {
        "id": "KMwzJljKYGr8"
      },
      "outputs": [],
      "source": []
    },
    {
      "cell_type": "code",
      "execution_count": null,
      "metadata": {
        "id": "BgwKCnfc1Xb0"
      },
      "outputs": [],
      "source": [
        "\n",
        "  linear = lin_layer(32 * 7 * 7, 10)"
      ]
    },
    {
      "cell_type": "code",
      "execution_count": null,
      "metadata": {
        "id": "tGp_gvPt-Dk8"
      },
      "outputs": [],
      "source": [
        "\n",
        "  array"
      ]
    },
    {
      "cell_type": "code",
      "execution_count": null,
      "metadata": {
        "id": "JwrkJLlK2i8S"
      },
      "outputs": [],
      "source": [
        "\n",
        "  probs = linear.forward(array, 1)\n"
      ]
    },
    {
      "cell_type": "code",
      "execution_count": null,
      "metadata": {
        "id": "MpPXyUHx-yg7"
      },
      "outputs": [],
      "source": [
        "\n",
        "  probs[0]"
      ]
    },
    {
      "cell_type": "code",
      "execution_count": null,
      "metadata": {
        "colab": {
          "base_uri": "https://localhost:8080/"
        },
        "id": "mfkzhcE48_sd",
        "outputId": "410f3d07-0894-4b9f-ea7b-4a5c1774ef55"
      },
      "outputs": [
        {
          "data": {
            "text/plain": [
              "tensor([ 2.7161, -1.7506])"
            ]
          },
          "execution_count": 126,
          "metadata": {},
          "output_type": "execute_result"
        }
      ],
      "source": [
        "\n",
        "tensor1 = torch.randn(2, 3)\n",
        "tensor2 = torch.randn(3)\n",
        "torch.matmul(tensor1, tensor2)"
      ]
    },
    {
      "cell_type": "code",
      "execution_count": null,
      "metadata": {
        "colab": {
          "base_uri": "https://localhost:8080/"
        },
        "id": "XMdI2Mit9CWy",
        "outputId": "bb6f9be0-639b-4932-f792-7aaf4fcbe43a"
      },
      "outputs": [
        {
          "data": {
            "text/plain": [
              "tensor([[ 1.5470, -0.0866, -1.4328],\n",
              "        [-1.4361, -0.1053, -0.7677]])"
            ]
          },
          "execution_count": 127,
          "metadata": {},
          "output_type": "execute_result"
        }
      ],
      "source": [
        "tensor1"
      ]
    },
    {
      "cell_type": "code",
      "execution_count": null,
      "metadata": {
        "colab": {
          "base_uri": "https://localhost:8080/"
        },
        "id": "hC92NC2A9hcz",
        "outputId": "160db095-8464-4c22-f69b-73664463c875"
      },
      "outputs": [
        {
          "data": {
            "text/plain": [
              "tensor([ 1.3966,  0.7215, -0.4313])"
            ]
          },
          "execution_count": 128,
          "metadata": {},
          "output_type": "execute_result"
        }
      ],
      "source": [
        "tensor2"
      ]
    },
    {
      "cell_type": "code",
      "execution_count": null,
      "metadata": {
        "id": "aLEhejgP9hgU"
      },
      "outputs": [],
      "source": []
    },
    {
      "cell_type": "code",
      "execution_count": null,
      "metadata": {
        "colab": {
          "base_uri": "https://localhost:8080/"
        },
        "id": "WIHNbeYd370o",
        "outputId": "7a3a69e1-9f10-4394-9a3f-9fbfe40e7b23"
      },
      "outputs": [
        {
          "name": "stdout",
          "output_type": "stream",
          "text": [
            "tensor([[-0.7694,  0.9453, -1.9065],\n",
            "        [ 0.0538, -1.1282,  1.2175]])\n",
            "full stop\n",
            "tensor([-0.9139,  0.0861,  0.5250])\n"
          ]
        },
        {
          "data": {
            "text/plain": [
              "tensor([-0.2163,  0.4929])"
            ]
          },
          "execution_count": 129,
          "metadata": {},
          "output_type": "execute_result"
        }
      ],
      "source": [
        "a = torch.randn(2, 3)\n",
        "print(a)\n",
        "print(\"full stop\")\n",
        "b = torch.randn(3)\n",
        "print(b)\n",
        "torch.matmul(a, b)"
      ]
    },
    {
      "cell_type": "code",
      "execution_count": null,
      "metadata": {
        "colab": {
          "base_uri": "https://localhost:8080/"
        },
        "id": "FMdo3ozZ6hQX",
        "outputId": "2215711c-dbe0-49ad-9a21-f1b63b0424f3"
      },
      "outputs": [
        {
          "name": "stdout",
          "output_type": "stream",
          "text": [
            "tensor([[1, 2, 3],\n",
            "        [6, 7, 8]])\n",
            "full stop\n",
            "tensor([1, 2, 3])\n"
          ]
        },
        {
          "data": {
            "text/plain": [
              "tensor([14, 44])"
            ]
          },
          "execution_count": 130,
          "metadata": {},
          "output_type": "execute_result"
        }
      ],
      "source": [
        "a = torch.tensor([[1,2,3],[6,7,8]])\n",
        "print(a)\n",
        "print(\"full stop\")\n",
        "b = torch.tensor([1, 2, 3])\n",
        "print(b)\n",
        "torch.matmul(a, b)"
      ]
    },
    {
      "cell_type": "code",
      "execution_count": null,
      "metadata": {
        "id": "DvNLVMCO6qtG"
      },
      "outputs": [],
      "source": []
    },
    {
      "cell_type": "code",
      "execution_count": null,
      "metadata": {
        "id": "ulZaV3Az6qq0"
      },
      "outputs": [],
      "source": [
        "#@title Class CNN\n",
        "#The module torch.nn contains different classess that help you build neural network models. \n",
        "#All models in PyTorch inherit from the subclass nn.Module,\n",
        "\n",
        "import torch.nn as nn\n",
        "#nn makes neural network and adds blocks and layers when given e.g. Conv2d\n",
        "class own_CNN(torch.nn.Module):\n",
        "  #The __init__ method is where we typically define the attributes of a class. \n",
        "  #In our case, all the \"sub-components\" of our model should be defined here, along with any other setting that we wish to save \n",
        "    def __init__(self):\n",
        "        super().__init__()\n",
        "        self.conv1 = new_conv_layer(in_channels=1,           \n",
        "                out_channels=16,        \n",
        "                kernel_size=5,          \n",
        "                stride=1,                 \n",
        "                padding=2,)\n",
        "        self.relu1 =  new_relu_layer() \n",
        "        self.maxpool1 = new_maxpool_layer(kernel_size=2)  \n",
        "        \n",
        "        self.conv2 = new_conv_layer(16, 32, 5, 1, 2)\n",
        "        self.relu2 = new_relu_layer()\n",
        "        self.maxpool2 = new_maxpool_layer(kernel_size=2)           \n",
        "        \n",
        "        # fully connected layer, output 10 classes\n",
        "        self.out = lin_layer(32 * 7 * 7, 10)  # in_features – size of each input sample\n",
        "                                              # out_features – size of each output sample\n",
        "                                              # bias – If set to False, the layer will not learn an additive bias. Default: True\n",
        "\n",
        "    \n",
        "    def forward(self, x): #x = tensor image\n",
        "        x = self.conv1(x)\n",
        "        #print(\"forward after conv1\", x.size())\n",
        "        #print(\"x after conv1\", x)\n",
        "        x = self.relu1(x)\n",
        "        #print(\"forward after relu1\", x.size())\n",
        "        #print(\"x after relu1\", x)\n",
        "        x = self.maxpool1(x)\n",
        "        #print(\"x after maxpool1\", x)\n",
        "       # print(\"forward after maxpool1\", x.size())\n",
        "        \n",
        "\n",
        "        x = self.conv2(x)\n",
        "        #print(\"forward after conv2\", x.size())\n",
        "        x = self.relu2(x)\n",
        "        #print(\"forward after relu2\", x.size())\n",
        "        x = self.maxpool2(x)\n",
        "        #print(\"forward after maxpool2\", x.size())\n",
        "\n",
        "        # flatten the output of conv2 to (batch_size, 32 * 7 * 7) 32*7*7 = input feature of fully connected layer\n",
        "        #@Q: What does flatten mean?\n",
        "        x = torch.flatten(x)\n",
        "        output = self.out(x)\n",
        "        return output, x    # return x for visualization"
      ]
    },
    {
      "cell_type": "code",
      "execution_count": null,
      "metadata": {
        "id": "C7y891ST6qoX"
      },
      "outputs": [],
      "source": [
        "own_cnn = own_CNN()"
      ]
    },
    {
      "cell_type": "code",
      "execution_count": null,
      "metadata": {
        "id": "-OyksVWR-5OY"
      },
      "outputs": [],
      "source": []
    },
    {
      "cell_type": "code",
      "execution_count": null,
      "metadata": {
        "colab": {
          "base_uri": "https://localhost:8080/"
        },
        "id": "DFGlUDLNfW5q",
        "outputId": "3df35855-d25a-4a19-e049-eeab5672a8cc"
      },
      "outputs": [
        {
          "name": "stdout",
          "output_type": "stream",
          "text": [
            "own_CNN(\n",
            "  (conv1): new_conv_layer()\n",
            "  (relu1): new_relu_layer()\n",
            "  (maxpool1): new_maxpool_layer()\n",
            "  (conv2): new_conv_layer()\n",
            "  (relu2): new_relu_layer()\n",
            "  (maxpool2): new_maxpool_layer()\n",
            "  (out): lin_layer()\n",
            ")\n"
          ]
        }
      ],
      "source": [
        "print(own_cnn)"
      ]
    },
    {
      "cell_type": "markdown",
      "metadata": {
        "id": "Vc_wjrsdCNxL"
      },
      "source": [
        "# PyTorch Layers\n"
      ]
    },
    {
      "cell_type": "code",
      "execution_count": null,
      "metadata": {
        "id": "YPRE-IRnncK2"
      },
      "outputs": [],
      "source": [
        "images, labels = next(iter(loaders['train']))"
      ]
    },
    {
      "cell_type": "code",
      "execution_count": null,
      "metadata": {
        "colab": {
          "base_uri": "https://localhost:8080/"
        },
        "id": "mxjNBVsyni-p",
        "outputId": "36b91128-2820-40bd-c7bb-49a266437f2b"
      },
      "outputs": [
        {
          "data": {
            "text/plain": [
              "100"
            ]
          },
          "execution_count": 136,
          "metadata": {},
          "output_type": "execute_result"
        }
      ],
      "source": [
        "images.size(0)"
      ]
    },
    {
      "cell_type": "code",
      "execution_count": null,
      "metadata": {
        "colab": {
          "base_uri": "https://localhost:8080/"
        },
        "id": "Lp-g_vnTncTN",
        "outputId": "dfa5494e-2fc0-452a-9598-df57bfab66e5"
      },
      "outputs": [
        {
          "data": {
            "text/plain": [
              "tensor([[[[0., 0., 0.,  ..., 0., 0., 0.],\n",
              "          [0., 0., 0.,  ..., 0., 0., 0.],\n",
              "          [0., 0., 0.,  ..., 0., 0., 0.],\n",
              "          ...,\n",
              "          [0., 0., 0.,  ..., 0., 0., 0.],\n",
              "          [0., 0., 0.,  ..., 0., 0., 0.],\n",
              "          [0., 0., 0.,  ..., 0., 0., 0.]]],\n",
              "\n",
              "\n",
              "        [[[0., 0., 0.,  ..., 0., 0., 0.],\n",
              "          [0., 0., 0.,  ..., 0., 0., 0.],\n",
              "          [0., 0., 0.,  ..., 0., 0., 0.],\n",
              "          ...,\n",
              "          [0., 0., 0.,  ..., 0., 0., 0.],\n",
              "          [0., 0., 0.,  ..., 0., 0., 0.],\n",
              "          [0., 0., 0.,  ..., 0., 0., 0.]]],\n",
              "\n",
              "\n",
              "        [[[0., 0., 0.,  ..., 0., 0., 0.],\n",
              "          [0., 0., 0.,  ..., 0., 0., 0.],\n",
              "          [0., 0., 0.,  ..., 0., 0., 0.],\n",
              "          ...,\n",
              "          [0., 0., 0.,  ..., 0., 0., 0.],\n",
              "          [0., 0., 0.,  ..., 0., 0., 0.],\n",
              "          [0., 0., 0.,  ..., 0., 0., 0.]]],\n",
              "\n",
              "\n",
              "        ...,\n",
              "\n",
              "\n",
              "        [[[0., 0., 0.,  ..., 0., 0., 0.],\n",
              "          [0., 0., 0.,  ..., 0., 0., 0.],\n",
              "          [0., 0., 0.,  ..., 0., 0., 0.],\n",
              "          ...,\n",
              "          [0., 0., 0.,  ..., 0., 0., 0.],\n",
              "          [0., 0., 0.,  ..., 0., 0., 0.],\n",
              "          [0., 0., 0.,  ..., 0., 0., 0.]]],\n",
              "\n",
              "\n",
              "        [[[0., 0., 0.,  ..., 0., 0., 0.],\n",
              "          [0., 0., 0.,  ..., 0., 0., 0.],\n",
              "          [0., 0., 0.,  ..., 0., 0., 0.],\n",
              "          ...,\n",
              "          [0., 0., 0.,  ..., 0., 0., 0.],\n",
              "          [0., 0., 0.,  ..., 0., 0., 0.],\n",
              "          [0., 0., 0.,  ..., 0., 0., 0.]]],\n",
              "\n",
              "\n",
              "        [[[0., 0., 0.,  ..., 0., 0., 0.],\n",
              "          [0., 0., 0.,  ..., 0., 0., 0.],\n",
              "          [0., 0., 0.,  ..., 0., 0., 0.],\n",
              "          ...,\n",
              "          [0., 0., 0.,  ..., 0., 0., 0.],\n",
              "          [0., 0., 0.,  ..., 0., 0., 0.],\n",
              "          [0., 0., 0.,  ..., 0., 0., 0.]]]])"
            ]
          },
          "execution_count": 137,
          "metadata": {},
          "output_type": "execute_result"
        }
      ],
      "source": [
        "images"
      ]
    },
    {
      "cell_type": "markdown",
      "metadata": {
        "id": "NiKle8sP4ntU"
      },
      "source": []
    },
    {
      "cell_type": "code",
      "execution_count": null,
      "metadata": {
        "id": "qmVluoO0Eo1u"
      },
      "outputs": [],
      "source": []
    },
    {
      "cell_type": "code",
      "execution_count": null,
      "metadata": {
        "colab": {
          "base_uri": "https://localhost:8080/"
        },
        "id": "l1SU40eo6a5J",
        "outputId": "50f8a40a-ec1d-4ded-a36f-11a62a6e06b3"
      },
      "outputs": [
        {
          "data": {
            "text/plain": [
              "CrossEntropyLoss()"
            ]
          },
          "execution_count": 84,
          "metadata": {},
          "output_type": "execute_result"
        }
      ],
      "source": [
        "#@title Import CrossEntropyLoss\n",
        "loss_func = nn.CrossEntropyLoss()   \n",
        "loss_func"
      ]
    },
    {
      "cell_type": "code",
      "execution_count": null,
      "metadata": {
        "colab": {
          "base_uri": "https://localhost:8080/"
        },
        "id": "3axx_Ido6a3A",
        "outputId": "7216c8cb-d39f-4cab-949a-03fca098c5a6"
      },
      "outputs": [
        {
          "data": {
            "text/plain": [
              "Adam (\n",
              "Parameter Group 0\n",
              "    amsgrad: False\n",
              "    betas: (0.9, 0.999)\n",
              "    capturable: False\n",
              "    differentiable: False\n",
              "    eps: 1e-08\n",
              "    foreach: None\n",
              "    fused: False\n",
              "    lr: 0.01\n",
              "    maximize: False\n",
              "    weight_decay: 0\n",
              ")"
            ]
          },
          "execution_count": 85,
          "metadata": {},
          "output_type": "execute_result"
        }
      ],
      "source": [
        "#@title Import Adam\n",
        "from torch import optim\n",
        "optimizer = optim.Adam(own_cnn.parameters(), lr = 0.01)   \n",
        "optimizer"
      ]
    },
    {
      "cell_type": "code",
      "execution_count": null,
      "metadata": {
        "id": "sqWFh3AA6a04"
      },
      "outputs": [],
      "source": []
    },
    {
      "cell_type": "code",
      "execution_count": null,
      "metadata": {
        "colab": {
          "base_uri": "https://localhost:8080/",
          "height": 659
        },
        "id": "F657XResT3v3",
        "outputId": "60149ed0-dcca-4488-8bb2-1cc76a139b85"
      },
      "outputs": [
        {
          "name": "stdout",
          "output_type": "stream",
          "text": [
            "Batch number, :  0\n",
            "stepp:  0\n",
            "stepp:  1\n",
            "stepp:  2\n",
            "stepp:  3\n",
            "stepp:  4\n",
            "stepp:  5\n",
            "stepp:  6\n"
          ]
        },
        {
          "name": "stderr",
          "output_type": "stream",
          "text": [
            "Traceback (most recent call last):\n",
            "  File \"/usr/lib/python3.8/multiprocessing/queues.py\", line 245, in _feed\n",
            "    send_bytes(obj)\n"
          ]
        },
        {
          "ename": "KeyboardInterrupt",
          "evalue": "ignored",
          "output_type": "error",
          "traceback": [
            "\u001b[0;31m---------------------------------------------------------------------------\u001b[0m",
            "\u001b[0;31mKeyboardInterrupt\u001b[0m                         Traceback (most recent call last)",
            "\u001b[0;32m<ipython-input-86-e59d29439df4>\u001b[0m in \u001b[0;36m<module>\u001b[0;34m\u001b[0m\n\u001b[1;32m     45\u001b[0m       \u001b[0;31m#pass\u001b[0m\u001b[0;34m\u001b[0m\u001b[0;34m\u001b[0m\u001b[0;34m\u001b[0m\u001b[0m\n\u001b[1;32m     46\u001b[0m   \u001b[0;31m#pass\u001b[0m\u001b[0;34m\u001b[0m\u001b[0;34m\u001b[0m\u001b[0;34m\u001b[0m\u001b[0m\n\u001b[0;32m---> 47\u001b[0;31m \u001b[0mtrain\u001b[0m\u001b[0;34m(\u001b[0m\u001b[0mnum_epochs\u001b[0m\u001b[0;34m,\u001b[0m \u001b[0mown_cnn\u001b[0m\u001b[0;34m,\u001b[0m \u001b[0mloaders\u001b[0m\u001b[0;34m)\u001b[0m\u001b[0;34m\u001b[0m\u001b[0;34m\u001b[0m\u001b[0m\n\u001b[0m",
            "\u001b[0;32m<ipython-input-86-e59d29439df4>\u001b[0m in \u001b[0;36mtrain\u001b[0;34m(num_epochs, own_cnn, loaders)\u001b[0m\n\u001b[1;32m     28\u001b[0m               \u001b[0;31m#print(\"img isssss\", imgo)\u001b[0m\u001b[0;34m\u001b[0m\u001b[0;34m\u001b[0m\u001b[0;34m\u001b[0m\u001b[0m\n\u001b[1;32m     29\u001b[0m               \u001b[0;31m#print(imgo.size())\u001b[0m\u001b[0;34m\u001b[0m\u001b[0;34m\u001b[0m\u001b[0;34m\u001b[0m\u001b[0m\n\u001b[0;32m---> 30\u001b[0;31m               \u001b[0moutput\u001b[0m \u001b[0;34m=\u001b[0m \u001b[0mown_cnn\u001b[0m\u001b[0;34m(\u001b[0m\u001b[0mb_x\u001b[0m\u001b[0;34m[\u001b[0m\u001b[0mj\u001b[0m\u001b[0;34m]\u001b[0m\u001b[0;34m)\u001b[0m\u001b[0;34m[\u001b[0m\u001b[0;36m0\u001b[0m\u001b[0;34m]\u001b[0m\u001b[0;34m\u001b[0m\u001b[0;34m\u001b[0m\u001b[0m\n\u001b[0m\u001b[1;32m     31\u001b[0m               \u001b[0mloss\u001b[0m \u001b[0;34m=\u001b[0m \u001b[0mloss_func\u001b[0m\u001b[0;34m(\u001b[0m\u001b[0moutput\u001b[0m\u001b[0;34m,\u001b[0m \u001b[0mb_y\u001b[0m\u001b[0;34m[\u001b[0m\u001b[0mj\u001b[0m\u001b[0;34m]\u001b[0m\u001b[0;34m)\u001b[0m\u001b[0;34m\u001b[0m\u001b[0;34m\u001b[0m\u001b[0m\n\u001b[1;32m     32\u001b[0m \u001b[0;34m\u001b[0m\u001b[0m\n",
            "\u001b[0;32m/usr/local/lib/python3.8/dist-packages/torch/nn/modules/module.py\u001b[0m in \u001b[0;36m_call_impl\u001b[0;34m(self, *input, **kwargs)\u001b[0m\n\u001b[1;32m   1188\u001b[0m         if not (self._backward_hooks or self._forward_hooks or self._forward_pre_hooks or _global_backward_hooks\n\u001b[1;32m   1189\u001b[0m                 or _global_forward_hooks or _global_forward_pre_hooks):\n\u001b[0;32m-> 1190\u001b[0;31m             \u001b[0;32mreturn\u001b[0m \u001b[0mforward_call\u001b[0m\u001b[0;34m(\u001b[0m\u001b[0;34m*\u001b[0m\u001b[0minput\u001b[0m\u001b[0;34m,\u001b[0m \u001b[0;34m**\u001b[0m\u001b[0mkwargs\u001b[0m\u001b[0;34m)\u001b[0m\u001b[0;34m\u001b[0m\u001b[0;34m\u001b[0m\u001b[0m\n\u001b[0m\u001b[1;32m   1191\u001b[0m         \u001b[0;31m# Do not call functions when jit is used\u001b[0m\u001b[0;34m\u001b[0m\u001b[0;34m\u001b[0m\u001b[0;34m\u001b[0m\u001b[0m\n\u001b[1;32m   1192\u001b[0m         \u001b[0mfull_backward_hooks\u001b[0m\u001b[0;34m,\u001b[0m \u001b[0mnon_full_backward_hooks\u001b[0m \u001b[0;34m=\u001b[0m \u001b[0;34m[\u001b[0m\u001b[0;34m]\u001b[0m\u001b[0;34m,\u001b[0m \u001b[0;34m[\u001b[0m\u001b[0;34m]\u001b[0m\u001b[0;34m\u001b[0m\u001b[0;34m\u001b[0m\u001b[0m\n",
            "\u001b[0;32m<ipython-input-82-f7bc1a49d835>\u001b[0m in \u001b[0;36mforward\u001b[0;34m(self, x)\u001b[0m\n\u001b[1;32m     40\u001b[0m \u001b[0;34m\u001b[0m\u001b[0m\n\u001b[1;32m     41\u001b[0m \u001b[0;34m\u001b[0m\u001b[0m\n\u001b[0;32m---> 42\u001b[0;31m         \u001b[0mx\u001b[0m \u001b[0;34m=\u001b[0m \u001b[0mself\u001b[0m\u001b[0;34m.\u001b[0m\u001b[0mconv2\u001b[0m\u001b[0;34m(\u001b[0m\u001b[0mx\u001b[0m\u001b[0;34m)\u001b[0m\u001b[0;34m\u001b[0m\u001b[0;34m\u001b[0m\u001b[0m\n\u001b[0m\u001b[1;32m     43\u001b[0m         \u001b[0;31m#print(\"forward after conv2\", x.size())\u001b[0m\u001b[0;34m\u001b[0m\u001b[0;34m\u001b[0m\u001b[0;34m\u001b[0m\u001b[0m\n\u001b[1;32m     44\u001b[0m         \u001b[0mx\u001b[0m \u001b[0;34m=\u001b[0m \u001b[0mself\u001b[0m\u001b[0;34m.\u001b[0m\u001b[0mrelu2\u001b[0m\u001b[0;34m(\u001b[0m\u001b[0mx\u001b[0m\u001b[0;34m)\u001b[0m\u001b[0;34m\u001b[0m\u001b[0;34m\u001b[0m\u001b[0m\n",
            "\u001b[0;32m/usr/local/lib/python3.8/dist-packages/torch/nn/modules/module.py\u001b[0m in \u001b[0;36m_call_impl\u001b[0;34m(self, *input, **kwargs)\u001b[0m\n\u001b[1;32m   1188\u001b[0m         if not (self._backward_hooks or self._forward_hooks or self._forward_pre_hooks or _global_backward_hooks\n\u001b[1;32m   1189\u001b[0m                 or _global_forward_hooks or _global_forward_pre_hooks):\n\u001b[0;32m-> 1190\u001b[0;31m             \u001b[0;32mreturn\u001b[0m \u001b[0mforward_call\u001b[0m\u001b[0;34m(\u001b[0m\u001b[0;34m*\u001b[0m\u001b[0minput\u001b[0m\u001b[0;34m,\u001b[0m \u001b[0;34m**\u001b[0m\u001b[0mkwargs\u001b[0m\u001b[0;34m)\u001b[0m\u001b[0;34m\u001b[0m\u001b[0;34m\u001b[0m\u001b[0m\n\u001b[0m\u001b[1;32m   1191\u001b[0m         \u001b[0;31m# Do not call functions when jit is used\u001b[0m\u001b[0;34m\u001b[0m\u001b[0;34m\u001b[0m\u001b[0;34m\u001b[0m\u001b[0m\n\u001b[1;32m   1192\u001b[0m         \u001b[0mfull_backward_hooks\u001b[0m\u001b[0;34m,\u001b[0m \u001b[0mnon_full_backward_hooks\u001b[0m \u001b[0;34m=\u001b[0m \u001b[0;34m[\u001b[0m\u001b[0;34m]\u001b[0m\u001b[0;34m,\u001b[0m \u001b[0;34m[\u001b[0m\u001b[0;34m]\u001b[0m\u001b[0;34m\u001b[0m\u001b[0;34m\u001b[0m\u001b[0m\n",
            "\u001b[0;32m<ipython-input-78-8310700ce78f>\u001b[0m in \u001b[0;36mforward\u001b[0;34m(self, img)\u001b[0m\n\u001b[1;32m     75\u001b[0m               \u001b[0;31m#print(\"padded_img \", padded_img)\u001b[0m\u001b[0;34m\u001b[0m\u001b[0;34m\u001b[0m\u001b[0;34m\u001b[0m\u001b[0m\n\u001b[1;32m     76\u001b[0m               \u001b[0;31m#print(\"filter is \", self.filters[f])\u001b[0m\u001b[0;34m\u001b[0m\u001b[0;34m\u001b[0m\u001b[0;34m\u001b[0m\u001b[0m\n\u001b[0;32m---> 77\u001b[0;31m               \u001b[0mslice_value\u001b[0m \u001b[0;34m=\u001b[0m \u001b[0mimg_slice_x_filters\u001b[0m\u001b[0;34m(\u001b[0m\u001b[0mpadded_img\u001b[0m\u001b[0;34m,\u001b[0m \u001b[0mself\u001b[0m\u001b[0;34m.\u001b[0m\u001b[0mf_size\u001b[0m\u001b[0;34m,\u001b[0m \u001b[0mself\u001b[0m\u001b[0;34m.\u001b[0m\u001b[0mstride\u001b[0m\u001b[0;34m,\u001b[0m \u001b[0mrow\u001b[0m\u001b[0;34m,\u001b[0m \u001b[0mself\u001b[0m\u001b[0;34m.\u001b[0m\u001b[0mfilters\u001b[0m\u001b[0;34m[\u001b[0m\u001b[0mf\u001b[0m\u001b[0;34m]\u001b[0m\u001b[0;34m,\u001b[0m \u001b[0mself\u001b[0m\u001b[0;34m.\u001b[0m\u001b[0mbias\u001b[0m\u001b[0;34m[\u001b[0m\u001b[0mf\u001b[0m\u001b[0;34m]\u001b[0m\u001b[0;34m)\u001b[0m\u001b[0;34m\u001b[0m\u001b[0;34m\u001b[0m\u001b[0m\n\u001b[0m\u001b[1;32m     78\u001b[0m              \u001b[0;31m# print(\"size slice_value, \", slice_value)\u001b[0m\u001b[0;34m\u001b[0m\u001b[0;34m\u001b[0m\u001b[0;34m\u001b[0m\u001b[0m\n\u001b[1;32m     79\u001b[0m \u001b[0;34m\u001b[0m\u001b[0m\n",
            "\u001b[0;32m<ipython-input-64-1e61b3a6ed56>\u001b[0m in \u001b[0;36mimg_slice_x_filters\u001b[0;34m(img, size, stride, row, filter, bias)\u001b[0m\n\u001b[1;32m     21\u001b[0m \u001b[0;34m\u001b[0m\u001b[0m\n\u001b[1;32m     22\u001b[0m     \u001b[0;32mfor\u001b[0m \u001b[0ma_slice\u001b[0m \u001b[0;32min\u001b[0m \u001b[0mrange\u001b[0m\u001b[0;34m(\u001b[0m\u001b[0mlen\u001b[0m\u001b[0;34m(\u001b[0m\u001b[0mslices\u001b[0m\u001b[0;34m)\u001b[0m\u001b[0;34m)\u001b[0m\u001b[0;34m:\u001b[0m\u001b[0;34m\u001b[0m\u001b[0;34m\u001b[0m\u001b[0m\n\u001b[0;32m---> 23\u001b[0;31m       \u001b[0mcalc\u001b[0m \u001b[0;34m=\u001b[0m \u001b[0mmatrix_sum_img_filter\u001b[0m\u001b[0;34m(\u001b[0m\u001b[0mslices\u001b[0m\u001b[0;34m[\u001b[0m\u001b[0ma_slice\u001b[0m\u001b[0;34m]\u001b[0m\u001b[0;34m,\u001b[0m \u001b[0mfilter\u001b[0m\u001b[0;34m,\u001b[0m \u001b[0mbias\u001b[0m\u001b[0;34m.\u001b[0m\u001b[0mitem\u001b[0m\u001b[0;34m(\u001b[0m\u001b[0;34m)\u001b[0m\u001b[0;34m)\u001b[0m\u001b[0;34m\u001b[0m\u001b[0;34m\u001b[0m\u001b[0m\n\u001b[0m\u001b[1;32m     24\u001b[0m       \u001b[0mfinal_values\u001b[0m\u001b[0;34m.\u001b[0m\u001b[0mappend\u001b[0m\u001b[0;34m(\u001b[0m\u001b[0mcalc\u001b[0m\u001b[0;34m)\u001b[0m\u001b[0;34m\u001b[0m\u001b[0;34m\u001b[0m\u001b[0m\n\u001b[1;32m     25\u001b[0m \u001b[0;34m\u001b[0m\u001b[0m\n",
            "\u001b[0;32m<ipython-input-56-27c2795fe0df>\u001b[0m in \u001b[0;36mmatrix_sum_img_filter\u001b[0;34m(img_slice, filter, bias)\u001b[0m\n\u001b[1;32m     11\u001b[0m \u001b[0;34m\u001b[0m\u001b[0m\n\u001b[1;32m     12\u001b[0m     \u001b[0;32mfor\u001b[0m \u001b[0mrow\u001b[0m \u001b[0;32min\u001b[0m \u001b[0mrange\u001b[0m\u001b[0;34m(\u001b[0m\u001b[0mlen\u001b[0m\u001b[0;34m(\u001b[0m\u001b[0mimg_slice\u001b[0m\u001b[0;34m[\u001b[0m\u001b[0mc\u001b[0m\u001b[0;34m]\u001b[0m\u001b[0;34m)\u001b[0m\u001b[0;34m)\u001b[0m\u001b[0;34m:\u001b[0m\u001b[0;34m\u001b[0m\u001b[0;34m\u001b[0m\u001b[0m\n\u001b[0;32m---> 13\u001b[0;31m       \u001b[0mvalue\u001b[0m \u001b[0;34m=\u001b[0m \u001b[0mtorch\u001b[0m\u001b[0;34m.\u001b[0m\u001b[0mmatmul\u001b[0m\u001b[0;34m(\u001b[0m\u001b[0mimg_slice\u001b[0m\u001b[0;34m[\u001b[0m\u001b[0mc\u001b[0m\u001b[0;34m]\u001b[0m\u001b[0;34m[\u001b[0m\u001b[0mrow\u001b[0m\u001b[0;34m]\u001b[0m\u001b[0;34m[\u001b[0m\u001b[0;34m:\u001b[0m\u001b[0;34m]\u001b[0m\u001b[0;34m,\u001b[0m \u001b[0mfilter\u001b[0m\u001b[0;34m[\u001b[0m\u001b[0mc\u001b[0m\u001b[0;34m]\u001b[0m\u001b[0;34m[\u001b[0m\u001b[0mrow\u001b[0m\u001b[0;34m]\u001b[0m\u001b[0;34m[\u001b[0m\u001b[0;34m:\u001b[0m\u001b[0;34m]\u001b[0m\u001b[0;34m)\u001b[0m\u001b[0;34m\u001b[0m\u001b[0;34m\u001b[0m\u001b[0m\n\u001b[0m\u001b[1;32m     14\u001b[0m       \u001b[0mvalue_sum\u001b[0m \u001b[0;34m+=\u001b[0m \u001b[0mvalue\u001b[0m\u001b[0;34m\u001b[0m\u001b[0;34m\u001b[0m\u001b[0m\n\u001b[1;32m     15\u001b[0m    \u001b[0;31m## ##print(\"value_sum, \", value_sum)\u001b[0m\u001b[0;34m\u001b[0m\u001b[0;34m\u001b[0m\u001b[0;34m\u001b[0m\u001b[0m\n",
            "\u001b[0;31mKeyboardInterrupt\u001b[0m: "
          ]
        },
        {
          "name": "stderr",
          "output_type": "stream",
          "text": [
            "  File \"/usr/lib/python3.8/multiprocessing/connection.py\", line 200, in send_bytes\n",
            "    self._send_bytes(m[offset:offset + size])\n",
            "  File \"/usr/lib/python3.8/multiprocessing/connection.py\", line 411, in _send_bytes\n",
            "    self._send(header + buf)\n",
            "  File \"/usr/lib/python3.8/multiprocessing/connection.py\", line 368, in _send\n",
            "    n = write(self._handle, buf)\n",
            "BrokenPipeError: [Errno 32] Broken pipe\n"
          ]
        }
      ],
      "source": [
        "#@title CNN TRAIN\n",
        "#train the model\n",
        "from torch.autograd import Variable\n",
        "num_epochs = 1\n",
        "\n",
        "\n",
        "#@TODO: name that goddamn function differently, it has no business being called the same as train() when they're different\n",
        "def train(num_epochs, own_cnn, loaders):\n",
        "    \n",
        "    # set the model in training mode\n",
        "    own_cnn.train()\n",
        "        \n",
        "    # Train the model\n",
        "    total_step = len(loaders['train']) #600 for 600 batches a 100 \n",
        "        \n",
        "    for epoch in range(num_epochs):\n",
        "        for i, (images, labels) in enumerate(loaders['train']):            \n",
        "            # gives batch data, normalize x when iterate train_loader\n",
        "            b_x = Variable(images)   # batch x\n",
        "            b_y = Variable(labels)   # batch y\n",
        "            \n",
        "            for j in range(len(labels)):\n",
        "              imgo = b_x[j]\n",
        "              output = own_cnn(b_x[j])[0]               \n",
        "              loss = loss_func(output, b_y[j])\n",
        "            \n",
        "              # clear gradients for this training step   \n",
        "              optimizer.zero_grad()           \n",
        "            \n",
        "              # backpropagation, compute gradients \n",
        "              loss.backward()    \n",
        "              # apply gradients             \n",
        "              optimizer.step()                \n",
        "            \n",
        "              if (i+1) % 100 == 0:\n",
        "                print ('Epoch [{}/{}], Step [{}/{}], Loss: {:.4f}' \n",
        "                       .format(epoch + 1, num_epochs, i + 1, total_step, loss.item()))\n",
        "train(num_epochs, own_cnn, loaders)\n"
      ]
    },
    {
      "cell_type": "code",
      "execution_count": null,
      "metadata": {
        "id": "ZfhX7DYX2EBO"
      },
      "outputs": [],
      "source": [
        "number = 0\n",
        "images, labels = next(iter(loaders['train']))\n",
        "\n"
      ]
    },
    {
      "cell_type": "code",
      "execution_count": null,
      "metadata": {
        "id": "7ofGTz6N2tyH"
      },
      "outputs": [],
      "source": [
        "images"
      ]
    },
    {
      "cell_type": "code",
      "execution_count": null,
      "metadata": {
        "id": "My_xjonW2EEL"
      },
      "outputs": [],
      "source": []
    },
    {
      "cell_type": "code",
      "execution_count": null,
      "metadata": {
        "id": "bDrFKx93T3yb"
      },
      "outputs": [],
      "source": [
        "# Evaluate the model on test data\n",
        "def test():\n",
        "    # Test the model\n",
        "    #model.eval() to set dropout and batch normalization layers to evaluation \n",
        "    #mode before running inference.\n",
        "    cnn.eval()\n",
        "\n",
        "    #test\n",
        "    idx = 0\n",
        "\n",
        "    # with statement in Python is used in exception handling to make the code cleaner \n",
        "    # and much more readable. (Same as try, but shorter, hence cleaner)\n",
        "\n",
        "    #Context-manager that disabled gradient calculation. Disabling gradient calculation \n",
        "    #is useful for inference, when you are sure that you will not call Tensor.backward(). \n",
        "    #It will reduce memory consumption for computations that would otherwise have requires_grad=True.\n",
        "    with torch.no_grad():\n",
        "        correct = 0\n",
        "        total = 0\n",
        "        for images, labels in loaders['test']:\n",
        "          #do cnn with test images & labels\n",
        "            test_output, last_layer = cnn(images)\n",
        "\n",
        "            pred_y = torch.max(test_output, 1)[1].data.squeeze()\n",
        " \n",
        "              \n",
        "            accuracy = (pred_y == labels).sum().item() / float(labels.size(0))\n",
        "\n",
        "    print('Test Accuracy of the model on the 10000 test images: %.2f' % accuracy)\n",
        "    \n",
        "test()\n"
      ]
    },
    {
      "cell_type": "code",
      "execution_count": null,
      "metadata": {
        "id": "OLJnDt1vEcD-"
      },
      "outputs": [],
      "source": []
    },
    {
      "cell_type": "code",
      "execution_count": null,
      "metadata": {
        "id": "aPhqdt-YT30w"
      },
      "outputs": [],
      "source": [
        "#Print 10 predictions from test data\n",
        "sample = next(iter(loaders['test']))\n",
        "imgs, lbls = sample"
      ]
    },
    {
      "cell_type": "code",
      "execution_count": null,
      "metadata": {
        "id": "CZIL7G7W5kOq"
      },
      "outputs": [],
      "source": []
    },
    {
      "cell_type": "code",
      "execution_count": null,
      "metadata": {
        "id": "zwGeTMjuT31n"
      },
      "outputs": [],
      "source": [
        "actual_number = lbls[:10].numpy()\n",
        "actual_number"
      ]
    },
    {
      "cell_type": "code",
      "execution_count": null,
      "metadata": {
        "id": "ynDt9q3YT34X"
      },
      "outputs": [],
      "source": [
        "test_output, last_layer = cnn(imgs[:10])\n",
        "pred_y = torch.max(test_output, 1)[1].tolist()\n",
        "print(f'Prediction number: {pred_y}')\n",
        "print(f'Actual number: {actual_number}')"
      ]
    },
    {
      "cell_type": "code",
      "execution_count": null,
      "metadata": {
        "id": "0eI2T_TgT38b"
      },
      "outputs": [],
      "source": []
    },
    {
      "cell_type": "code",
      "execution_count": null,
      "metadata": {
        "id": "2auuutprT397"
      },
      "outputs": [],
      "source": []
    }
  ],
  "metadata": {
    "accelerator": "GPU",
    "colab": {
      "provenance": [],
      "toc_visible": true,
      "authorship_tag": "ABX9TyMDBEhH0KLDXqco7YL494Sp"
    },
    "gpuClass": "standard",
    "kernelspec": {
      "display_name": "Python 3",
      "name": "python3"
    },
    "language_info": {
      "name": "python"
    }
  },
  "nbformat": 4,
  "nbformat_minor": 0
}